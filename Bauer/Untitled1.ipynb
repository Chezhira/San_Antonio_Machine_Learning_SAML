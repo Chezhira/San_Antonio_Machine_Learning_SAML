{
 "cells": [
  {
   "cell_type": "code",
   "execution_count": 1,
   "id": "df033db9",
   "metadata": {},
   "outputs": [],
   "source": [
    "import pandas as pd"
   ]
  },
  {
   "cell_type": "code",
   "execution_count": null,
   "id": "c2595f65",
   "metadata": {},
   "outputs": [],
   "source": [
    "df = pandas.read_csv(csvfile)\n",
    "df.to_sql(table_name, conn, if_exists='append', index=False)"
   ]
  }
 ],
 "metadata": {
  "kernelspec": {
   "display_name": "mlenv",
   "language": "python",
   "name": "mlenv"
  },
  "language_info": {
   "codemirror_mode": {
    "name": "ipython",
    "version": 3
   },
   "file_extension": ".py",
   "mimetype": "text/x-python",
   "name": "python",
   "nbconvert_exporter": "python",
   "pygments_lexer": "ipython3",
   "version": "3.7.11"
  }
 },
 "nbformat": 4,
 "nbformat_minor": 5
}
