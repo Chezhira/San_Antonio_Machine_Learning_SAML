{
 "cells": [
  {
   "cell_type": "code",
   "execution_count": 76,
   "metadata": {},
   "outputs": [
    {
     "name": "stdout",
     "output_type": "stream",
     "text": [
      "import numpy as np\n"
     ]
    },
    {
     "data": {
      "text/plain": [
       "['import numpy as np']"
      ]
     },
     "execution_count": 76,
     "metadata": {},
     "output_type": "execute_result"
    }
   ],
   "source": [
    "import pyforest\n",
    "from pyforest import *\n",
    "import pandas as pd\n",
    "import matplotlib.pyplot as plot\n",
    "import seaborn as sns\n",
    "\n",
    "pyforest.active_imports()"
   ]
  },
  {
   "cell_type": "markdown",
   "metadata": {},
   "source": [
    "## Import Dataset"
   ]
  },
  {
   "cell_type": "code",
   "execution_count": 77,
   "metadata": {},
   "outputs": [
    {
     "data": {
      "text/html": [
       "<div>\n",
       "<style scoped>\n",
       "    .dataframe tbody tr th:only-of-type {\n",
       "        vertical-align: middle;\n",
       "    }\n",
       "\n",
       "    .dataframe tbody tr th {\n",
       "        vertical-align: top;\n",
       "    }\n",
       "\n",
       "    .dataframe thead th {\n",
       "        text-align: right;\n",
       "    }\n",
       "</style>\n",
       "<table border=\"1\" class=\"dataframe\">\n",
       "  <thead>\n",
       "    <tr style=\"text-align: right;\">\n",
       "      <th></th>\n",
       "      <th>ID#</th>\n",
       "      <th>Gender</th>\n",
       "      <th>Age</th>\n",
       "      <th>Hypertension</th>\n",
       "      <th>Heart_Disease</th>\n",
       "      <th>Ever_Married</th>\n",
       "      <th>Work_Type</th>\n",
       "      <th>Residence_Type</th>\n",
       "      <th>Avg_Glucose_Lvl</th>\n",
       "      <th>BMI</th>\n",
       "      <th>Smoker</th>\n",
       "      <th>Stroke</th>\n",
       "    </tr>\n",
       "  </thead>\n",
       "  <tbody>\n",
       "    <tr>\n",
       "      <th>0</th>\n",
       "      <td>1</td>\n",
       "      <td>Male</td>\n",
       "      <td>67</td>\n",
       "      <td>0</td>\n",
       "      <td>1</td>\n",
       "      <td>Yes</td>\n",
       "      <td>Private</td>\n",
       "      <td>Urban</td>\n",
       "      <td>228.69</td>\n",
       "      <td>36.6</td>\n",
       "      <td>Former</td>\n",
       "      <td>1</td>\n",
       "    </tr>\n",
       "    <tr>\n",
       "      <th>1</th>\n",
       "      <td>2</td>\n",
       "      <td>Female</td>\n",
       "      <td>61</td>\n",
       "      <td>0</td>\n",
       "      <td>0</td>\n",
       "      <td>Yes</td>\n",
       "      <td>Self-employed</td>\n",
       "      <td>Rural</td>\n",
       "      <td>202.21</td>\n",
       "      <td>NaN</td>\n",
       "      <td>Never</td>\n",
       "      <td>1</td>\n",
       "    </tr>\n",
       "    <tr>\n",
       "      <th>2</th>\n",
       "      <td>3</td>\n",
       "      <td>Male</td>\n",
       "      <td>80</td>\n",
       "      <td>0</td>\n",
       "      <td>1</td>\n",
       "      <td>Yes</td>\n",
       "      <td>Private</td>\n",
       "      <td>Rural</td>\n",
       "      <td>105.92</td>\n",
       "      <td>32.5</td>\n",
       "      <td>Never</td>\n",
       "      <td>1</td>\n",
       "    </tr>\n",
       "    <tr>\n",
       "      <th>3</th>\n",
       "      <td>4</td>\n",
       "      <td>Female</td>\n",
       "      <td>49</td>\n",
       "      <td>0</td>\n",
       "      <td>0</td>\n",
       "      <td>Yes</td>\n",
       "      <td>Private</td>\n",
       "      <td>Urban</td>\n",
       "      <td>171.23</td>\n",
       "      <td>34.4</td>\n",
       "      <td>Current</td>\n",
       "      <td>1</td>\n",
       "    </tr>\n",
       "    <tr>\n",
       "      <th>4</th>\n",
       "      <td>5</td>\n",
       "      <td>Female</td>\n",
       "      <td>79</td>\n",
       "      <td>1</td>\n",
       "      <td>0</td>\n",
       "      <td>Yes</td>\n",
       "      <td>Self-employed</td>\n",
       "      <td>Rural</td>\n",
       "      <td>174.12</td>\n",
       "      <td>24.0</td>\n",
       "      <td>Never</td>\n",
       "      <td>1</td>\n",
       "    </tr>\n",
       "    <tr>\n",
       "      <th>...</th>\n",
       "      <td>...</td>\n",
       "      <td>...</td>\n",
       "      <td>...</td>\n",
       "      <td>...</td>\n",
       "      <td>...</td>\n",
       "      <td>...</td>\n",
       "      <td>...</td>\n",
       "      <td>...</td>\n",
       "      <td>...</td>\n",
       "      <td>...</td>\n",
       "      <td>...</td>\n",
       "      <td>...</td>\n",
       "    </tr>\n",
       "    <tr>\n",
       "      <th>5104</th>\n",
       "      <td>5106</td>\n",
       "      <td>Female</td>\n",
       "      <td>80</td>\n",
       "      <td>1</td>\n",
       "      <td>0</td>\n",
       "      <td>Yes</td>\n",
       "      <td>Private</td>\n",
       "      <td>Urban</td>\n",
       "      <td>83.75</td>\n",
       "      <td>NaN</td>\n",
       "      <td>Never</td>\n",
       "      <td>0</td>\n",
       "    </tr>\n",
       "    <tr>\n",
       "      <th>5105</th>\n",
       "      <td>5107</td>\n",
       "      <td>Female</td>\n",
       "      <td>81</td>\n",
       "      <td>0</td>\n",
       "      <td>0</td>\n",
       "      <td>Yes</td>\n",
       "      <td>Self-employed</td>\n",
       "      <td>Urban</td>\n",
       "      <td>125.20</td>\n",
       "      <td>40.0</td>\n",
       "      <td>Never</td>\n",
       "      <td>0</td>\n",
       "    </tr>\n",
       "    <tr>\n",
       "      <th>5106</th>\n",
       "      <td>5108</td>\n",
       "      <td>Female</td>\n",
       "      <td>35</td>\n",
       "      <td>0</td>\n",
       "      <td>0</td>\n",
       "      <td>Yes</td>\n",
       "      <td>Self-employed</td>\n",
       "      <td>Rural</td>\n",
       "      <td>82.99</td>\n",
       "      <td>30.6</td>\n",
       "      <td>Never</td>\n",
       "      <td>0</td>\n",
       "    </tr>\n",
       "    <tr>\n",
       "      <th>5107</th>\n",
       "      <td>5109</td>\n",
       "      <td>Male</td>\n",
       "      <td>51</td>\n",
       "      <td>0</td>\n",
       "      <td>0</td>\n",
       "      <td>Yes</td>\n",
       "      <td>Private</td>\n",
       "      <td>Rural</td>\n",
       "      <td>166.29</td>\n",
       "      <td>25.6</td>\n",
       "      <td>Former</td>\n",
       "      <td>0</td>\n",
       "    </tr>\n",
       "    <tr>\n",
       "      <th>5108</th>\n",
       "      <td>5110</td>\n",
       "      <td>Female</td>\n",
       "      <td>44</td>\n",
       "      <td>0</td>\n",
       "      <td>0</td>\n",
       "      <td>Yes</td>\n",
       "      <td>Govt_job</td>\n",
       "      <td>Urban</td>\n",
       "      <td>85.28</td>\n",
       "      <td>26.2</td>\n",
       "      <td>Unknown</td>\n",
       "      <td>0</td>\n",
       "    </tr>\n",
       "  </tbody>\n",
       "</table>\n",
       "<p>5109 rows × 12 columns</p>\n",
       "</div>"
      ],
      "text/plain": [
       "       ID#  Gender  Age  Hypertension  Heart_Disease Ever_Married  \\\n",
       "0        1    Male   67             0              1          Yes   \n",
       "1        2  Female   61             0              0          Yes   \n",
       "2        3    Male   80             0              1          Yes   \n",
       "3        4  Female   49             0              0          Yes   \n",
       "4        5  Female   79             1              0          Yes   \n",
       "...    ...     ...  ...           ...            ...          ...   \n",
       "5104  5106  Female   80             1              0          Yes   \n",
       "5105  5107  Female   81             0              0          Yes   \n",
       "5106  5108  Female   35             0              0          Yes   \n",
       "5107  5109    Male   51             0              0          Yes   \n",
       "5108  5110  Female   44             0              0          Yes   \n",
       "\n",
       "          Work_Type Residence_Type  Avg_Glucose_Lvl   BMI   Smoker  Stroke  \n",
       "0           Private          Urban           228.69  36.6   Former       1  \n",
       "1     Self-employed          Rural           202.21   NaN    Never       1  \n",
       "2           Private          Rural           105.92  32.5    Never       1  \n",
       "3           Private          Urban           171.23  34.4  Current       1  \n",
       "4     Self-employed          Rural           174.12  24.0    Never       1  \n",
       "...             ...            ...              ...   ...      ...     ...  \n",
       "5104        Private          Urban            83.75   NaN    Never       0  \n",
       "5105  Self-employed          Urban           125.20  40.0    Never       0  \n",
       "5106  Self-employed          Rural            82.99  30.6    Never       0  \n",
       "5107        Private          Rural           166.29  25.6   Former       0  \n",
       "5108       Govt_job          Urban            85.28  26.2  Unknown       0  \n",
       "\n",
       "[5109 rows x 12 columns]"
      ]
     },
     "execution_count": 77,
     "metadata": {},
     "output_type": "execute_result"
    }
   ],
   "source": [
    "data = r\"C:\\Users\\Boborodono\\Desktop\\San_Antonio\\Resources\\Cleaned_Dataset\\Parquet\\clean_stroke.parquet.gzip\"\n",
    "df = pd.read_parquet(data)\n",
    "df"
   ]
  },
  {
   "cell_type": "markdown",
   "metadata": {},
   "source": [
    "## Drop ID Column"
   ]
  },
  {
   "cell_type": "code",
   "execution_count": 78,
   "metadata": {},
   "outputs": [],
   "source": [
    "df.drop(columns=[\"ID#\"], inplace=True)"
   ]
  },
  {
   "cell_type": "markdown",
   "metadata": {},
   "source": [
    "## Normalize numerical attributes"
   ]
  },
  {
   "cell_type": "code",
   "execution_count": 79,
   "metadata": {},
   "outputs": [],
   "source": [
    "# Create a new column for normalized age\n",
    "df['age_norm']=(df['Age']-df[\"Age\"].min())/(df[\"Age\"].max()-df[\"Age\"].min())\n",
    "\n",
    "# Create a new column for normalized avg glucose level\n",
    "df[\"glucose_norm\"] = (df[\"Avg_Glucose_Lvl\"] - df[\"Avg_Glucose_Lvl\"].min())/(df[\"Avg_Glucose_Lvl\"].max() - df[\"Avg_Glucose_Lvl\"].min())\n",
    "\n",
    "# Create a new column for normalized avg bmi\n",
    "df['bmi_norm'] = (df[\"BMI\"] - df[\"BMI\"].min())/(df[\"BMI\"].max() - df[\"BMI\"].min())"
   ]
  },
  {
   "cell_type": "markdown",
   "metadata": {},
   "source": [
    "## Discretize Numerical Attributes"
   ]
  },
  {
   "cell_type": "code",
   "execution_count": 80,
   "metadata": {},
   "outputs": [
    {
     "data": {
      "text/html": [
       "<div>\n",
       "<style scoped>\n",
       "    .dataframe tbody tr th:only-of-type {\n",
       "        vertical-align: middle;\n",
       "    }\n",
       "\n",
       "    .dataframe tbody tr th {\n",
       "        vertical-align: top;\n",
       "    }\n",
       "\n",
       "    .dataframe thead th {\n",
       "        text-align: right;\n",
       "    }\n",
       "</style>\n",
       "<table border=\"1\" class=\"dataframe\">\n",
       "  <thead>\n",
       "    <tr style=\"text-align: right;\">\n",
       "      <th></th>\n",
       "      <th>Gender</th>\n",
       "      <th>Age</th>\n",
       "      <th>Hypertension</th>\n",
       "      <th>Heart_Disease</th>\n",
       "      <th>Ever_Married</th>\n",
       "      <th>Work_Type</th>\n",
       "      <th>Residence_Type</th>\n",
       "      <th>Avg_Glucose_Lvl</th>\n",
       "      <th>BMI</th>\n",
       "      <th>Smoker</th>\n",
       "      <th>Stroke</th>\n",
       "      <th>age_norm</th>\n",
       "      <th>glucose_norm</th>\n",
       "      <th>bmi_norm</th>\n",
       "      <th>age_binned</th>\n",
       "      <th>glucose_binned</th>\n",
       "      <th>bmi_binned</th>\n",
       "    </tr>\n",
       "  </thead>\n",
       "  <tbody>\n",
       "    <tr>\n",
       "      <th>0</th>\n",
       "      <td>Male</td>\n",
       "      <td>67</td>\n",
       "      <td>0</td>\n",
       "      <td>1</td>\n",
       "      <td>Yes</td>\n",
       "      <td>Private</td>\n",
       "      <td>Urban</td>\n",
       "      <td>228.69</td>\n",
       "      <td>36.6</td>\n",
       "      <td>Former</td>\n",
       "      <td>1</td>\n",
       "      <td>0.817073</td>\n",
       "      <td>0.801265</td>\n",
       "      <td>0.301260</td>\n",
       "      <td>Baby Boomers</td>\n",
       "      <td>Diabetic (&gt;125)</td>\n",
       "      <td>Obese (Medium-Risk)</td>\n",
       "    </tr>\n",
       "    <tr>\n",
       "      <th>1</th>\n",
       "      <td>Female</td>\n",
       "      <td>61</td>\n",
       "      <td>0</td>\n",
       "      <td>0</td>\n",
       "      <td>Yes</td>\n",
       "      <td>Self-employed</td>\n",
       "      <td>Rural</td>\n",
       "      <td>202.21</td>\n",
       "      <td>NaN</td>\n",
       "      <td>Never</td>\n",
       "      <td>1</td>\n",
       "      <td>0.743902</td>\n",
       "      <td>0.679023</td>\n",
       "      <td>NaN</td>\n",
       "      <td>Baby Boomers</td>\n",
       "      <td>Diabetic (&gt;125)</td>\n",
       "      <td>NaN</td>\n",
       "    </tr>\n",
       "    <tr>\n",
       "      <th>2</th>\n",
       "      <td>Male</td>\n",
       "      <td>80</td>\n",
       "      <td>0</td>\n",
       "      <td>1</td>\n",
       "      <td>Yes</td>\n",
       "      <td>Private</td>\n",
       "      <td>Rural</td>\n",
       "      <td>105.92</td>\n",
       "      <td>32.5</td>\n",
       "      <td>Never</td>\n",
       "      <td>1</td>\n",
       "      <td>0.975610</td>\n",
       "      <td>0.234512</td>\n",
       "      <td>0.254296</td>\n",
       "      <td>Baby Boomers</td>\n",
       "      <td>Prediabetic (100-125)</td>\n",
       "      <td>Obese (Low-Risk)</td>\n",
       "    </tr>\n",
       "    <tr>\n",
       "      <th>3</th>\n",
       "      <td>Female</td>\n",
       "      <td>49</td>\n",
       "      <td>0</td>\n",
       "      <td>0</td>\n",
       "      <td>Yes</td>\n",
       "      <td>Private</td>\n",
       "      <td>Urban</td>\n",
       "      <td>171.23</td>\n",
       "      <td>34.4</td>\n",
       "      <td>Current</td>\n",
       "      <td>1</td>\n",
       "      <td>0.597561</td>\n",
       "      <td>0.536008</td>\n",
       "      <td>0.276060</td>\n",
       "      <td>Generation X</td>\n",
       "      <td>Diabetic (&gt;125)</td>\n",
       "      <td>Obese (Low-Risk)</td>\n",
       "    </tr>\n",
       "    <tr>\n",
       "      <th>4</th>\n",
       "      <td>Female</td>\n",
       "      <td>79</td>\n",
       "      <td>1</td>\n",
       "      <td>0</td>\n",
       "      <td>Yes</td>\n",
       "      <td>Self-employed</td>\n",
       "      <td>Rural</td>\n",
       "      <td>174.12</td>\n",
       "      <td>24.0</td>\n",
       "      <td>Never</td>\n",
       "      <td>1</td>\n",
       "      <td>0.963415</td>\n",
       "      <td>0.549349</td>\n",
       "      <td>0.156930</td>\n",
       "      <td>Baby Boomers</td>\n",
       "      <td>Diabetic (&gt;125)</td>\n",
       "      <td>Healthy Weight</td>\n",
       "    </tr>\n",
       "    <tr>\n",
       "      <th>...</th>\n",
       "      <td>...</td>\n",
       "      <td>...</td>\n",
       "      <td>...</td>\n",
       "      <td>...</td>\n",
       "      <td>...</td>\n",
       "      <td>...</td>\n",
       "      <td>...</td>\n",
       "      <td>...</td>\n",
       "      <td>...</td>\n",
       "      <td>...</td>\n",
       "      <td>...</td>\n",
       "      <td>...</td>\n",
       "      <td>...</td>\n",
       "      <td>...</td>\n",
       "      <td>...</td>\n",
       "      <td>...</td>\n",
       "      <td>...</td>\n",
       "    </tr>\n",
       "    <tr>\n",
       "      <th>5104</th>\n",
       "      <td>Female</td>\n",
       "      <td>80</td>\n",
       "      <td>1</td>\n",
       "      <td>0</td>\n",
       "      <td>Yes</td>\n",
       "      <td>Private</td>\n",
       "      <td>Urban</td>\n",
       "      <td>83.75</td>\n",
       "      <td>NaN</td>\n",
       "      <td>Never</td>\n",
       "      <td>0</td>\n",
       "      <td>0.975610</td>\n",
       "      <td>0.132167</td>\n",
       "      <td>NaN</td>\n",
       "      <td>Baby Boomers</td>\n",
       "      <td>Normal (&lt;100)</td>\n",
       "      <td>NaN</td>\n",
       "    </tr>\n",
       "    <tr>\n",
       "      <th>5105</th>\n",
       "      <td>Female</td>\n",
       "      <td>81</td>\n",
       "      <td>0</td>\n",
       "      <td>0</td>\n",
       "      <td>Yes</td>\n",
       "      <td>Self-employed</td>\n",
       "      <td>Urban</td>\n",
       "      <td>125.20</td>\n",
       "      <td>40.0</td>\n",
       "      <td>Never</td>\n",
       "      <td>0</td>\n",
       "      <td>0.987805</td>\n",
       "      <td>0.323516</td>\n",
       "      <td>0.340206</td>\n",
       "      <td>Greatest Generation</td>\n",
       "      <td>Diabetic (&gt;125)</td>\n",
       "      <td>Obese (Medium-Risk)</td>\n",
       "    </tr>\n",
       "    <tr>\n",
       "      <th>5106</th>\n",
       "      <td>Female</td>\n",
       "      <td>35</td>\n",
       "      <td>0</td>\n",
       "      <td>0</td>\n",
       "      <td>Yes</td>\n",
       "      <td>Self-employed</td>\n",
       "      <td>Rural</td>\n",
       "      <td>82.99</td>\n",
       "      <td>30.6</td>\n",
       "      <td>Never</td>\n",
       "      <td>0</td>\n",
       "      <td>0.426829</td>\n",
       "      <td>0.128658</td>\n",
       "      <td>0.232532</td>\n",
       "      <td>Millenials</td>\n",
       "      <td>Normal (&lt;100)</td>\n",
       "      <td>Obese (Low-Risk)</td>\n",
       "    </tr>\n",
       "    <tr>\n",
       "      <th>5107</th>\n",
       "      <td>Male</td>\n",
       "      <td>51</td>\n",
       "      <td>0</td>\n",
       "      <td>0</td>\n",
       "      <td>Yes</td>\n",
       "      <td>Private</td>\n",
       "      <td>Rural</td>\n",
       "      <td>166.29</td>\n",
       "      <td>25.6</td>\n",
       "      <td>Former</td>\n",
       "      <td>0</td>\n",
       "      <td>0.621951</td>\n",
       "      <td>0.513203</td>\n",
       "      <td>0.175258</td>\n",
       "      <td>Generation X</td>\n",
       "      <td>Diabetic (&gt;125)</td>\n",
       "      <td>Overweight</td>\n",
       "    </tr>\n",
       "    <tr>\n",
       "      <th>5108</th>\n",
       "      <td>Female</td>\n",
       "      <td>44</td>\n",
       "      <td>0</td>\n",
       "      <td>0</td>\n",
       "      <td>Yes</td>\n",
       "      <td>Govt_job</td>\n",
       "      <td>Urban</td>\n",
       "      <td>85.28</td>\n",
       "      <td>26.2</td>\n",
       "      <td>Unknown</td>\n",
       "      <td>0</td>\n",
       "      <td>0.536585</td>\n",
       "      <td>0.139230</td>\n",
       "      <td>0.182131</td>\n",
       "      <td>Generation X</td>\n",
       "      <td>Normal (&lt;100)</td>\n",
       "      <td>Overweight</td>\n",
       "    </tr>\n",
       "  </tbody>\n",
       "</table>\n",
       "<p>5109 rows × 17 columns</p>\n",
       "</div>"
      ],
      "text/plain": [
       "      Gender  Age  Hypertension  Heart_Disease Ever_Married      Work_Type  \\\n",
       "0       Male   67             0              1          Yes        Private   \n",
       "1     Female   61             0              0          Yes  Self-employed   \n",
       "2       Male   80             0              1          Yes        Private   \n",
       "3     Female   49             0              0          Yes        Private   \n",
       "4     Female   79             1              0          Yes  Self-employed   \n",
       "...      ...  ...           ...            ...          ...            ...   \n",
       "5104  Female   80             1              0          Yes        Private   \n",
       "5105  Female   81             0              0          Yes  Self-employed   \n",
       "5106  Female   35             0              0          Yes  Self-employed   \n",
       "5107    Male   51             0              0          Yes        Private   \n",
       "5108  Female   44             0              0          Yes       Govt_job   \n",
       "\n",
       "     Residence_Type  Avg_Glucose_Lvl   BMI   Smoker  Stroke  age_norm  \\\n",
       "0             Urban           228.69  36.6   Former       1  0.817073   \n",
       "1             Rural           202.21   NaN    Never       1  0.743902   \n",
       "2             Rural           105.92  32.5    Never       1  0.975610   \n",
       "3             Urban           171.23  34.4  Current       1  0.597561   \n",
       "4             Rural           174.12  24.0    Never       1  0.963415   \n",
       "...             ...              ...   ...      ...     ...       ...   \n",
       "5104          Urban            83.75   NaN    Never       0  0.975610   \n",
       "5105          Urban           125.20  40.0    Never       0  0.987805   \n",
       "5106          Rural            82.99  30.6    Never       0  0.426829   \n",
       "5107          Rural           166.29  25.6   Former       0  0.621951   \n",
       "5108          Urban            85.28  26.2  Unknown       0  0.536585   \n",
       "\n",
       "      glucose_norm  bmi_norm           age_binned         glucose_binned  \\\n",
       "0         0.801265  0.301260         Baby Boomers        Diabetic (>125)   \n",
       "1         0.679023       NaN         Baby Boomers        Diabetic (>125)   \n",
       "2         0.234512  0.254296         Baby Boomers  Prediabetic (100-125)   \n",
       "3         0.536008  0.276060         Generation X        Diabetic (>125)   \n",
       "4         0.549349  0.156930         Baby Boomers        Diabetic (>125)   \n",
       "...            ...       ...                  ...                    ...   \n",
       "5104      0.132167       NaN         Baby Boomers          Normal (<100)   \n",
       "5105      0.323516  0.340206  Greatest Generation        Diabetic (>125)   \n",
       "5106      0.128658  0.232532           Millenials          Normal (<100)   \n",
       "5107      0.513203  0.175258         Generation X        Diabetic (>125)   \n",
       "5108      0.139230  0.182131         Generation X          Normal (<100)   \n",
       "\n",
       "               bmi_binned  \n",
       "0     Obese (Medium-Risk)  \n",
       "1                     NaN  \n",
       "2        Obese (Low-Risk)  \n",
       "3        Obese (Low-Risk)  \n",
       "4          Healthy Weight  \n",
       "...                   ...  \n",
       "5104                  NaN  \n",
       "5105  Obese (Medium-Risk)  \n",
       "5106     Obese (Low-Risk)  \n",
       "5107           Overweight  \n",
       "5108           Overweight  \n",
       "\n",
       "[5109 rows x 17 columns]"
      ]
     },
     "execution_count": 80,
     "metadata": {},
     "output_type": "execute_result"
    }
   ],
   "source": [
    "# Discretize with respective equal width bin\n",
    "\n",
    "age_bins = [0, 20, 40, 60, 80, 100]\n",
    "age_names = [\"Gen Z\", \"Millenials\", \"Generation X\", \"Baby Boomers\", \"Greatest Generation\"]\n",
    "df['age_binned'] = pd.cut(df[\"Age\"], age_bins, labels=age_names)\n",
    "\n",
    "# Establish and discretize the bins for the glucose level\n",
    "glucose_bins = [0, 100, 125, 280]\n",
    "glucose_names = [\"Normal (<100)\", \"Prediabetic (100-125)\", \"Diabetic (>125)\"]\n",
    "df['glucose_binned'] = pd.cut(df[\"Avg_Glucose_Lvl\"], glucose_bins, labels=glucose_names)\n",
    "\n",
    "# Establish and discretize the bins for the bmi\n",
    "bmi_bins = [0,18.5, 25, 30, 35, 40, 100]\n",
    "bmi_names = [\"Underweight\", \"Healthy Weight\", \"Overweight\", \"Obese (Low-Risk)\", \"Obese (Medium-Risk)\", \"Obese (High-Risk)\"]\n",
    "df['bmi_binned'] = pd.cut(df[\"BMI\"], bmi_bins, labels=bmi_names)\n",
    "\n",
    "df"
   ]
  },
  {
   "cell_type": "markdown",
   "metadata": {},
   "source": [
    "# EDA Begins"
   ]
  },
  {
   "cell_type": "markdown",
   "metadata": {},
   "source": [
    "## Correlation HeatMap"
   ]
  },
  {
   "cell_type": "code",
   "execution_count": 81,
   "metadata": {},
   "outputs": [
    {
     "data": {
      "image/png": "[encoded data removed]",
      "text/plain": [
       "<Figure size 432x288 with 2 Axes>"
      ]
     },
     "metadata": {
      "needs_background": "light"
     },
     "output_type": "display_data"
    }
   ],
   "source": [
    "# Create the Heatmap\n",
    "heatmap = sns.heatmap(df[['age_norm', 'glucose_norm', 'bmi_norm']].corr(), annot=True, fmt='.2f', cmap='coolwarm')\n",
    "# Create the title\n",
    "heatmap.set_title(\"Correlation Heatmap\");"
   ]
  },
  {
   "cell_type": "markdown",
   "metadata": {},
   "source": [
    "## GET_STACKED_BAR_CHART algorithm"
   ]
  },
  {
   "cell_type": "code",
   "execution_count": 82,
   "metadata": {},
   "outputs": [],
   "source": [
    "def get_stacked_bar_chart(column):\n",
    "    # Get the count of records by column and stroke\n",
    "    df_pct = df.groupby([column, \"Stroke\"])['Age'].count()\n",
    "    # Create proper DataFrame's Format\n",
    "    df_pct = df_pct.unstack()\n",
    "    return df_pct.plot.bar(stacked=True, figsize=(6.6), width=1);"
   ]
  },
  {
   "cell_type": "markdown",
   "metadata": {},
   "source": [
    "## GET_100_PERCENT_STACKED_BAR_CHART algorithm"
   ]
  },
  {
   "cell_type": "code",
   "execution_count": 83,
   "metadata": {},
   "outputs": [],
   "source": [
    "def get_100_percent_stacked_bar_chart(column, width = 0.5):\n",
    "    # Gt the count of records by column and stroke\n",
    "    df_breakdown = df.groupby([column, \"Stroke\"])[\"Age\"].count()\n",
    "    # Get the count of records by gender\n",
    "    df_total = df.groupby([column])[\"Age\"].count()\n",
    "    # Get the percentage for 100% Stacked Bar Chart\n",
    "    df_pct = df_breakdown /df_total * 100\n",
    "    # Create proper DataFrames format\n",
    "    df_pct = df_pct.unstack()\n",
    "    return df_pct.plot.bar(stacked=True, figsize=(6.6), width=width);"
   ]
  },
  {
   "cell_type": "markdown",
   "metadata": {},
   "source": [
    "## Age Histogram"
   ]
  },
  {
   "cell_type": "code",
   "execution_count": 84,
   "metadata": {},
   "outputs": [
    {
     "ename": "TypeError",
     "evalue": "from_bounds() argument after * must be an iterable, not float",
     "output_type": "error",
     "traceback": [
      "\u001b[1;31m---------------------------------------------------------------------------\u001b[0m",
      "\u001b[1;31mTypeError\u001b[0m                                 Traceback (most recent call last)",
      "\u001b[1;32mc:\\Users\\Boborodono\\Desktop\\San_Antonio\\Wilder\\Initial_EDA\\Initial_EDA.ipynb Cell 18'\u001b[0m in \u001b[0;36m<cell line: 1>\u001b[1;34m()\u001b[0m\n\u001b[1;32m----> <a href='vscode-notebook-cell:/c%3A/Users/Boborodono/Desktop/San_Antonio/Wilder/Initial_EDA/Initial_EDA.ipynb#ch0000046?line=0'>1</a>\u001b[0m get_stacked_bar_chart(\u001b[39m'\u001b[39;49m\u001b[39mage_binned\u001b[39;49m\u001b[39m'\u001b[39;49m)\n",
      "\u001b[1;32mc:\\Users\\Boborodono\\Desktop\\San_Antonio\\Wilder\\Initial_EDA\\Initial_EDA.ipynb Cell 14'\u001b[0m in \u001b[0;36mget_stacked_bar_chart\u001b[1;34m(column)\u001b[0m\n\u001b[0;32m      <a href='vscode-notebook-cell:/c%3A/Users/Boborodono/Desktop/San_Antonio/Wilder/Initial_EDA/Initial_EDA.ipynb#ch0000010?line=3'>4</a>\u001b[0m \u001b[39m# Create proper DataFrame's Format\u001b[39;00m\n\u001b[0;32m      <a href='vscode-notebook-cell:/c%3A/Users/Boborodono/Desktop/San_Antonio/Wilder/Initial_EDA/Initial_EDA.ipynb#ch0000010?line=4'>5</a>\u001b[0m df_pct \u001b[39m=\u001b[39m df_pct\u001b[39m.\u001b[39munstack()\n\u001b[1;32m----> <a href='vscode-notebook-cell:/c%3A/Users/Boborodono/Desktop/San_Antonio/Wilder/Initial_EDA/Initial_EDA.ipynb#ch0000010?line=5'>6</a>\u001b[0m \u001b[39mreturn\u001b[39;00m df_pct\u001b[39m.\u001b[39;49mplot\u001b[39m.\u001b[39;49mbar(stacked\u001b[39m=\u001b[39;49m\u001b[39mTrue\u001b[39;49;00m, figsize\u001b[39m=\u001b[39;49m(\u001b[39m6.6\u001b[39;49m), width\u001b[39m=\u001b[39;49m\u001b[39m1\u001b[39;49m)\n",
      "File \u001b[1;32m~\\anaconda3\\envs\\PandasProfiling\\lib\\site-packages\\pandas\\plotting\\_core.py:1131\u001b[0m, in \u001b[0;36mPlotAccessor.bar\u001b[1;34m(self, x, y, **kwargs)\u001b[0m\n\u001b[0;32m   <a href='file:///c%3A/Users/Boborodono/anaconda3/envs/PandasProfiling/lib/site-packages/pandas/plotting/_core.py?line=1042'>1043</a>\u001b[0m \u001b[39m@Appender\u001b[39m(\n\u001b[0;32m   <a href='file:///c%3A/Users/Boborodono/anaconda3/envs/PandasProfiling/lib/site-packages/pandas/plotting/_core.py?line=1043'>1044</a>\u001b[0m     \u001b[39m\"\"\"\u001b[39;00m\n\u001b[0;32m   <a href='file:///c%3A/Users/Boborodono/anaconda3/envs/PandasProfiling/lib/site-packages/pandas/plotting/_core.py?line=1044'>1045</a>\u001b[0m \u001b[39m    See Also\u001b[39;00m\n\u001b[1;32m   (...)\u001b[0m\n\u001b[0;32m   <a href='file:///c%3A/Users/Boborodono/anaconda3/envs/PandasProfiling/lib/site-packages/pandas/plotting/_core.py?line=1119'>1120</a>\u001b[0m \u001b[39m@Appender\u001b[39m(_bar_or_line_doc)\n\u001b[0;32m   <a href='file:///c%3A/Users/Boborodono/anaconda3/envs/PandasProfiling/lib/site-packages/pandas/plotting/_core.py?line=1120'>1121</a>\u001b[0m \u001b[39mdef\u001b[39;00m \u001b[39mbar\u001b[39m(\u001b[39mself\u001b[39m, x\u001b[39m=\u001b[39m\u001b[39mNone\u001b[39;00m, y\u001b[39m=\u001b[39m\u001b[39mNone\u001b[39;00m, \u001b[39m*\u001b[39m\u001b[39m*\u001b[39mkwargs):\n\u001b[0;32m   <a href='file:///c%3A/Users/Boborodono/anaconda3/envs/PandasProfiling/lib/site-packages/pandas/plotting/_core.py?line=1121'>1122</a>\u001b[0m     \u001b[39m\"\"\"\u001b[39;00m\n\u001b[0;32m   <a href='file:///c%3A/Users/Boborodono/anaconda3/envs/PandasProfiling/lib/site-packages/pandas/plotting/_core.py?line=1122'>1123</a>\u001b[0m \u001b[39m    Vertical bar plot.\u001b[39;00m\n\u001b[0;32m   <a href='file:///c%3A/Users/Boborodono/anaconda3/envs/PandasProfiling/lib/site-packages/pandas/plotting/_core.py?line=1123'>1124</a>\u001b[0m \n\u001b[1;32m   (...)\u001b[0m\n\u001b[0;32m   <a href='file:///c%3A/Users/Boborodono/anaconda3/envs/PandasProfiling/lib/site-packages/pandas/plotting/_core.py?line=1128'>1129</a>\u001b[0m \u001b[39m    other axis represents a measured value.\u001b[39;00m\n\u001b[0;32m   <a href='file:///c%3A/Users/Boborodono/anaconda3/envs/PandasProfiling/lib/site-packages/pandas/plotting/_core.py?line=1129'>1130</a>\u001b[0m \u001b[39m    \"\"\"\u001b[39;00m\n\u001b[1;32m-> <a href='file:///c%3A/Users/Boborodono/anaconda3/envs/PandasProfiling/lib/site-packages/pandas/plotting/_core.py?line=1130'>1131</a>\u001b[0m     \u001b[39mreturn\u001b[39;00m \u001b[39mself\u001b[39;49m(kind\u001b[39m=\u001b[39;49m\u001b[39m\"\u001b[39;49m\u001b[39mbar\u001b[39;49m\u001b[39m\"\u001b[39;49m, x\u001b[39m=\u001b[39;49mx, y\u001b[39m=\u001b[39;49my, \u001b[39m*\u001b[39;49m\u001b[39m*\u001b[39;49mkwargs)\n",
      "File \u001b[1;32m~\\anaconda3\\envs\\PandasProfiling\\lib\\site-packages\\pandas\\plotting\\_core.py:972\u001b[0m, in \u001b[0;36mPlotAccessor.__call__\u001b[1;34m(self, *args, **kwargs)\u001b[0m\n\u001b[0;32m    <a href='file:///c%3A/Users/Boborodono/anaconda3/envs/PandasProfiling/lib/site-packages/pandas/plotting/_core.py?line=968'>969</a>\u001b[0m             label_name \u001b[39m=\u001b[39m label_kw \u001b[39mor\u001b[39;00m data\u001b[39m.\u001b[39mcolumns\n\u001b[0;32m    <a href='file:///c%3A/Users/Boborodono/anaconda3/envs/PandasProfiling/lib/site-packages/pandas/plotting/_core.py?line=969'>970</a>\u001b[0m             data\u001b[39m.\u001b[39mcolumns \u001b[39m=\u001b[39m label_name\n\u001b[1;32m--> <a href='file:///c%3A/Users/Boborodono/anaconda3/envs/PandasProfiling/lib/site-packages/pandas/plotting/_core.py?line=971'>972</a>\u001b[0m \u001b[39mreturn\u001b[39;00m plot_backend\u001b[39m.\u001b[39;49mplot(data, kind\u001b[39m=\u001b[39;49mkind, \u001b[39m*\u001b[39;49m\u001b[39m*\u001b[39;49mkwargs)\n",
      "File \u001b[1;32m~\\anaconda3\\envs\\PandasProfiling\\lib\\site-packages\\pandas\\plotting\\_matplotlib\\__init__.py:71\u001b[0m, in \u001b[0;36mplot\u001b[1;34m(data, kind, **kwargs)\u001b[0m\n\u001b[0;32m     <a href='file:///c%3A/Users/Boborodono/anaconda3/envs/PandasProfiling/lib/site-packages/pandas/plotting/_matplotlib/__init__.py?line=68'>69</a>\u001b[0m         kwargs[\u001b[39m\"\u001b[39m\u001b[39max\u001b[39m\u001b[39m\"\u001b[39m] \u001b[39m=\u001b[39m \u001b[39mgetattr\u001b[39m(ax, \u001b[39m\"\u001b[39m\u001b[39mleft_ax\u001b[39m\u001b[39m\"\u001b[39m, ax)\n\u001b[0;32m     <a href='file:///c%3A/Users/Boborodono/anaconda3/envs/PandasProfiling/lib/site-packages/pandas/plotting/_matplotlib/__init__.py?line=69'>70</a>\u001b[0m plot_obj \u001b[39m=\u001b[39m PLOT_CLASSES[kind](data, \u001b[39m*\u001b[39m\u001b[39m*\u001b[39mkwargs)\n\u001b[1;32m---> <a href='file:///c%3A/Users/Boborodono/anaconda3/envs/PandasProfiling/lib/site-packages/pandas/plotting/_matplotlib/__init__.py?line=70'>71</a>\u001b[0m plot_obj\u001b[39m.\u001b[39;49mgenerate()\n\u001b[0;32m     <a href='file:///c%3A/Users/Boborodono/anaconda3/envs/PandasProfiling/lib/site-packages/pandas/plotting/_matplotlib/__init__.py?line=71'>72</a>\u001b[0m plot_obj\u001b[39m.\u001b[39mdraw()\n\u001b[0;32m     <a href='file:///c%3A/Users/Boborodono/anaconda3/envs/PandasProfiling/lib/site-packages/pandas/plotting/_matplotlib/__init__.py?line=72'>73</a>\u001b[0m \u001b[39mreturn\u001b[39;00m plot_obj\u001b[39m.\u001b[39mresult\n",
      "File \u001b[1;32m~\\anaconda3\\envs\\PandasProfiling\\lib\\site-packages\\pandas\\plotting\\_matplotlib\\core.py:328\u001b[0m, in \u001b[0;36mMPLPlot.generate\u001b[1;34m(self)\u001b[0m\n\u001b[0;32m    <a href='file:///c%3A/Users/Boborodono/anaconda3/envs/PandasProfiling/lib/site-packages/pandas/plotting/_matplotlib/core.py?line=325'>326</a>\u001b[0m \u001b[39mself\u001b[39m\u001b[39m.\u001b[39m_args_adjust()\n\u001b[0;32m    <a href='file:///c%3A/Users/Boborodono/anaconda3/envs/PandasProfiling/lib/site-packages/pandas/plotting/_matplotlib/core.py?line=326'>327</a>\u001b[0m \u001b[39mself\u001b[39m\u001b[39m.\u001b[39m_compute_plot_data()\n\u001b[1;32m--> <a href='file:///c%3A/Users/Boborodono/anaconda3/envs/PandasProfiling/lib/site-packages/pandas/plotting/_matplotlib/core.py?line=327'>328</a>\u001b[0m \u001b[39mself\u001b[39;49m\u001b[39m.\u001b[39;49m_setup_subplots()\n\u001b[0;32m    <a href='file:///c%3A/Users/Boborodono/anaconda3/envs/PandasProfiling/lib/site-packages/pandas/plotting/_matplotlib/core.py?line=328'>329</a>\u001b[0m \u001b[39mself\u001b[39m\u001b[39m.\u001b[39m_make_plot()\n\u001b[0;32m    <a href='file:///c%3A/Users/Boborodono/anaconda3/envs/PandasProfiling/lib/site-packages/pandas/plotting/_matplotlib/core.py?line=329'>330</a>\u001b[0m \u001b[39mself\u001b[39m\u001b[39m.\u001b[39m_add_table()\n",
      "File \u001b[1;32m~\\anaconda3\\envs\\PandasProfiling\\lib\\site-packages\\pandas\\plotting\\_matplotlib\\core.py:386\u001b[0m, in \u001b[0;36mMPLPlot._setup_subplots\u001b[1;34m(self)\u001b[0m\n\u001b[0;32m    <a href='file:///c%3A/Users/Boborodono/anaconda3/envs/PandasProfiling/lib/site-packages/pandas/plotting/_matplotlib/core.py?line=383'>384</a>\u001b[0m \u001b[39melse\u001b[39;00m:\n\u001b[0;32m    <a href='file:///c%3A/Users/Boborodono/anaconda3/envs/PandasProfiling/lib/site-packages/pandas/plotting/_matplotlib/core.py?line=384'>385</a>\u001b[0m     \u001b[39mif\u001b[39;00m \u001b[39mself\u001b[39m\u001b[39m.\u001b[39max \u001b[39mis\u001b[39;00m \u001b[39mNone\u001b[39;00m:\n\u001b[1;32m--> <a href='file:///c%3A/Users/Boborodono/anaconda3/envs/PandasProfiling/lib/site-packages/pandas/plotting/_matplotlib/core.py?line=385'>386</a>\u001b[0m         fig \u001b[39m=\u001b[39m \u001b[39mself\u001b[39;49m\u001b[39m.\u001b[39;49mplt\u001b[39m.\u001b[39;49mfigure(figsize\u001b[39m=\u001b[39;49m\u001b[39mself\u001b[39;49m\u001b[39m.\u001b[39;49mfigsize)\n\u001b[0;32m    <a href='file:///c%3A/Users/Boborodono/anaconda3/envs/PandasProfiling/lib/site-packages/pandas/plotting/_matplotlib/core.py?line=386'>387</a>\u001b[0m         axes \u001b[39m=\u001b[39m fig\u001b[39m.\u001b[39madd_subplot(\u001b[39m111\u001b[39m)\n\u001b[0;32m    <a href='file:///c%3A/Users/Boborodono/anaconda3/envs/PandasProfiling/lib/site-packages/pandas/plotting/_matplotlib/core.py?line=387'>388</a>\u001b[0m     \u001b[39melse\u001b[39;00m:\n",
      "File \u001b[1;32m~\\anaconda3\\envs\\PandasProfiling\\lib\\site-packages\\matplotlib\\pyplot.py:787\u001b[0m, in \u001b[0;36mfigure\u001b[1;34m(num, figsize, dpi, facecolor, edgecolor, frameon, FigureClass, clear, **kwargs)\u001b[0m\n\u001b[0;32m    <a href='file:///c%3A/Users/Boborodono/anaconda3/envs/PandasProfiling/lib/site-packages/matplotlib/pyplot.py?line=777'>778</a>\u001b[0m \u001b[39mif\u001b[39;00m \u001b[39mlen\u001b[39m(allnums) \u001b[39m==\u001b[39m max_open_warning \u001b[39m>\u001b[39m\u001b[39m=\u001b[39m \u001b[39m1\u001b[39m:\n\u001b[0;32m    <a href='file:///c%3A/Users/Boborodono/anaconda3/envs/PandasProfiling/lib/site-packages/matplotlib/pyplot.py?line=778'>779</a>\u001b[0m     _api\u001b[39m.\u001b[39mwarn_external(\n\u001b[0;32m    <a href='file:///c%3A/Users/Boborodono/anaconda3/envs/PandasProfiling/lib/site-packages/matplotlib/pyplot.py?line=779'>780</a>\u001b[0m         \u001b[39mf\u001b[39m\u001b[39m\"\u001b[39m\u001b[39mMore than \u001b[39m\u001b[39m{\u001b[39;00mmax_open_warning\u001b[39m}\u001b[39;00m\u001b[39m figures have been opened. \u001b[39m\u001b[39m\"\u001b[39m\n\u001b[0;32m    <a href='file:///c%3A/Users/Boborodono/anaconda3/envs/PandasProfiling/lib/site-packages/matplotlib/pyplot.py?line=780'>781</a>\u001b[0m         \u001b[39mf\u001b[39m\u001b[39m\"\u001b[39m\u001b[39mFigures created through the pyplot interface \u001b[39m\u001b[39m\"\u001b[39m\n\u001b[1;32m   (...)\u001b[0m\n\u001b[0;32m    <a href='file:///c%3A/Users/Boborodono/anaconda3/envs/PandasProfiling/lib/site-packages/matplotlib/pyplot.py?line=783'>784</a>\u001b[0m         \u001b[39mf\u001b[39m\u001b[39m\"\u001b[39m\u001b[39mwarning, see the rcParam `figure.max_open_warning`).\u001b[39m\u001b[39m\"\u001b[39m,\n\u001b[0;32m    <a href='file:///c%3A/Users/Boborodono/anaconda3/envs/PandasProfiling/lib/site-packages/matplotlib/pyplot.py?line=784'>785</a>\u001b[0m         \u001b[39mRuntimeWarning\u001b[39;00m)\n\u001b[1;32m--> <a href='file:///c%3A/Users/Boborodono/anaconda3/envs/PandasProfiling/lib/site-packages/matplotlib/pyplot.py?line=786'>787</a>\u001b[0m manager \u001b[39m=\u001b[39m new_figure_manager(\n\u001b[0;32m    <a href='file:///c%3A/Users/Boborodono/anaconda3/envs/PandasProfiling/lib/site-packages/matplotlib/pyplot.py?line=787'>788</a>\u001b[0m     num, figsize\u001b[39m=\u001b[39;49mfigsize, dpi\u001b[39m=\u001b[39;49mdpi,\n\u001b[0;32m    <a href='file:///c%3A/Users/Boborodono/anaconda3/envs/PandasProfiling/lib/site-packages/matplotlib/pyplot.py?line=788'>789</a>\u001b[0m     facecolor\u001b[39m=\u001b[39;49mfacecolor, edgecolor\u001b[39m=\u001b[39;49medgecolor, frameon\u001b[39m=\u001b[39;49mframeon,\n\u001b[0;32m    <a href='file:///c%3A/Users/Boborodono/anaconda3/envs/PandasProfiling/lib/site-packages/matplotlib/pyplot.py?line=789'>790</a>\u001b[0m     FigureClass\u001b[39m=\u001b[39;49mFigureClass, \u001b[39m*\u001b[39;49m\u001b[39m*\u001b[39;49mkwargs)\n\u001b[0;32m    <a href='file:///c%3A/Users/Boborodono/anaconda3/envs/PandasProfiling/lib/site-packages/matplotlib/pyplot.py?line=790'>791</a>\u001b[0m fig \u001b[39m=\u001b[39m manager\u001b[39m.\u001b[39mcanvas\u001b[39m.\u001b[39mfigure\n\u001b[0;32m    <a href='file:///c%3A/Users/Boborodono/anaconda3/envs/PandasProfiling/lib/site-packages/matplotlib/pyplot.py?line=791'>792</a>\u001b[0m \u001b[39mif\u001b[39;00m fig_label:\n",
      "File \u001b[1;32m~\\anaconda3\\envs\\PandasProfiling\\lib\\site-packages\\matplotlib\\pyplot.py:306\u001b[0m, in \u001b[0;36mnew_figure_manager\u001b[1;34m(*args, **kwargs)\u001b[0m\n\u001b[0;32m    <a href='file:///c%3A/Users/Boborodono/anaconda3/envs/PandasProfiling/lib/site-packages/matplotlib/pyplot.py?line=303'>304</a>\u001b[0m \u001b[39m\"\"\"Create a new figure manager instance.\"\"\"\u001b[39;00m\n\u001b[0;32m    <a href='file:///c%3A/Users/Boborodono/anaconda3/envs/PandasProfiling/lib/site-packages/matplotlib/pyplot.py?line=304'>305</a>\u001b[0m _warn_if_gui_out_of_main_thread()\n\u001b[1;32m--> <a href='file:///c%3A/Users/Boborodono/anaconda3/envs/PandasProfiling/lib/site-packages/matplotlib/pyplot.py?line=305'>306</a>\u001b[0m \u001b[39mreturn\u001b[39;00m _backend_mod\u001b[39m.\u001b[39;49mnew_figure_manager(\u001b[39m*\u001b[39;49margs, \u001b[39m*\u001b[39;49m\u001b[39m*\u001b[39;49mkwargs)\n",
      "File \u001b[1;32m~\\anaconda3\\envs\\PandasProfiling\\lib\\site-packages\\matplotlib\\backend_bases.py:3493\u001b[0m, in \u001b[0;36m_Backend.new_figure_manager\u001b[1;34m(cls, num, *args, **kwargs)\u001b[0m\n\u001b[0;32m   <a href='file:///c%3A/Users/Boborodono/anaconda3/envs/PandasProfiling/lib/site-packages/matplotlib/backend_bases.py?line=3490'>3491</a>\u001b[0m \u001b[39mfrom\u001b[39;00m \u001b[39mmatplotlib\u001b[39;00m\u001b[39m.\u001b[39;00m\u001b[39mfigure\u001b[39;00m \u001b[39mimport\u001b[39;00m Figure\n\u001b[0;32m   <a href='file:///c%3A/Users/Boborodono/anaconda3/envs/PandasProfiling/lib/site-packages/matplotlib/backend_bases.py?line=3491'>3492</a>\u001b[0m fig_cls \u001b[39m=\u001b[39m kwargs\u001b[39m.\u001b[39mpop(\u001b[39m'\u001b[39m\u001b[39mFigureClass\u001b[39m\u001b[39m'\u001b[39m, Figure)\n\u001b[1;32m-> <a href='file:///c%3A/Users/Boborodono/anaconda3/envs/PandasProfiling/lib/site-packages/matplotlib/backend_bases.py?line=3492'>3493</a>\u001b[0m fig \u001b[39m=\u001b[39m fig_cls(\u001b[39m*\u001b[39;49margs, \u001b[39m*\u001b[39;49m\u001b[39m*\u001b[39;49mkwargs)\n\u001b[0;32m   <a href='file:///c%3A/Users/Boborodono/anaconda3/envs/PandasProfiling/lib/site-packages/matplotlib/backend_bases.py?line=3493'>3494</a>\u001b[0m \u001b[39mreturn\u001b[39;00m \u001b[39mcls\u001b[39m\u001b[39m.\u001b[39mnew_figure_manager_given_figure(num, fig)\n",
      "File \u001b[1;32m~\\anaconda3\\envs\\PandasProfiling\\lib\\site-packages\\matplotlib\\figure.py:2282\u001b[0m, in \u001b[0;36mFigure.__init__\u001b[1;34m(self, figsize, dpi, facecolor, edgecolor, linewidth, frameon, subplotpars, tight_layout, constrained_layout, layout, **kwargs)\u001b[0m\n\u001b[0;32m   <a href='file:///c%3A/Users/Boborodono/anaconda3/envs/PandasProfiling/lib/site-packages/matplotlib/figure.py?line=2278'>2279</a>\u001b[0m \u001b[39mif\u001b[39;00m \u001b[39mnot\u001b[39;00m np\u001b[39m.\u001b[39misfinite(figsize)\u001b[39m.\u001b[39mall() \u001b[39mor\u001b[39;00m (np\u001b[39m.\u001b[39marray(figsize) \u001b[39m<\u001b[39m \u001b[39m0\u001b[39m)\u001b[39m.\u001b[39many():\n\u001b[0;32m   <a href='file:///c%3A/Users/Boborodono/anaconda3/envs/PandasProfiling/lib/site-packages/matplotlib/figure.py?line=2279'>2280</a>\u001b[0m     \u001b[39mraise\u001b[39;00m \u001b[39mValueError\u001b[39;00m(\u001b[39m'\u001b[39m\u001b[39mfigure size must be positive finite not \u001b[39m\u001b[39m'\u001b[39m\n\u001b[0;32m   <a href='file:///c%3A/Users/Boborodono/anaconda3/envs/PandasProfiling/lib/site-packages/matplotlib/figure.py?line=2280'>2281</a>\u001b[0m                      \u001b[39mf\u001b[39m\u001b[39m'\u001b[39m\u001b[39m{\u001b[39;00mfigsize\u001b[39m}\u001b[39;00m\u001b[39m'\u001b[39m)\n\u001b[1;32m-> <a href='file:///c%3A/Users/Boborodono/anaconda3/envs/PandasProfiling/lib/site-packages/matplotlib/figure.py?line=2281'>2282</a>\u001b[0m \u001b[39mself\u001b[39m\u001b[39m.\u001b[39mbbox_inches \u001b[39m=\u001b[39m Bbox\u001b[39m.\u001b[39mfrom_bounds(\u001b[39m0\u001b[39m, \u001b[39m0\u001b[39m, \u001b[39m*\u001b[39mfigsize)\n\u001b[0;32m   <a href='file:///c%3A/Users/Boborodono/anaconda3/envs/PandasProfiling/lib/site-packages/matplotlib/figure.py?line=2283'>2284</a>\u001b[0m \u001b[39mself\u001b[39m\u001b[39m.\u001b[39mdpi_scale_trans \u001b[39m=\u001b[39m Affine2D()\u001b[39m.\u001b[39mscale(dpi)\n\u001b[0;32m   <a href='file:///c%3A/Users/Boborodono/anaconda3/envs/PandasProfiling/lib/site-packages/matplotlib/figure.py?line=2284'>2285</a>\u001b[0m \u001b[39m# do not use property as it will trigger\u001b[39;00m\n",
      "\u001b[1;31mTypeError\u001b[0m: from_bounds() argument after * must be an iterable, not float"
     ]
    }
   ],
   "source": [
    "get_stacked_bar_chart('age_binned')"
   ]
  },
  {
   "cell_type": "markdown",
   "metadata": {},
   "source": [
    "## Age Stacked Bar"
   ]
  },
  {
   "cell_type": "code",
   "execution_count": null,
   "metadata": {},
   "outputs": [],
   "source": []
  },
  {
   "cell_type": "markdown",
   "metadata": {},
   "source": [
    "## BMI Histogram"
   ]
  },
  {
   "cell_type": "code",
   "execution_count": null,
   "metadata": {},
   "outputs": [],
   "source": []
  },
  {
   "cell_type": "markdown",
   "metadata": {},
   "source": [
    "## BMI Stacked Bar"
   ]
  },
  {
   "cell_type": "code",
   "execution_count": null,
   "metadata": {},
   "outputs": [],
   "source": []
  },
  {
   "cell_type": "markdown",
   "metadata": {},
   "source": [
    "## Average Glucose Histogram"
   ]
  },
  {
   "cell_type": "code",
   "execution_count": null,
   "metadata": {},
   "outputs": [],
   "source": []
  },
  {
   "cell_type": "markdown",
   "metadata": {},
   "source": [
    "## Average Glucose Stacked Bar"
   ]
  },
  {
   "cell_type": "markdown",
   "metadata": {},
   "source": []
  },
  {
   "cell_type": "markdown",
   "metadata": {},
   "source": [
    "## HyperTension"
   ]
  },
  {
   "cell_type": "code",
   "execution_count": null,
   "metadata": {},
   "outputs": [],
   "source": []
  },
  {
   "cell_type": "markdown",
   "metadata": {},
   "source": [
    "## Heart Disease"
   ]
  },
  {
   "cell_type": "code",
   "execution_count": null,
   "metadata": {},
   "outputs": [],
   "source": []
  },
  {
   "cell_type": "markdown",
   "metadata": {},
   "source": [
    "## Gender, Residence Type"
   ]
  },
  {
   "cell_type": "code",
   "execution_count": null,
   "metadata": {},
   "outputs": [],
   "source": []
  },
  {
   "cell_type": "markdown",
   "metadata": {},
   "source": [
    "## Work-Type"
   ]
  },
  {
   "cell_type": "code",
   "execution_count": null,
   "metadata": {},
   "outputs": [
    {
     "ename": "TypeError",
     "evalue": "from_bounds() argument after * must be an iterable, not float",
     "output_type": "error",
     "traceback": [
      "\u001b[1;31m---------------------------------------------------------------------------\u001b[0m",
      "\u001b[1;31mTypeError\u001b[0m                                 Traceback (most recent call last)",
      "\u001b[1;32mc:\\Users\\Boborodono\\Desktop\\San_Antonio\\Wilder\\Initial_EDA\\Initial_EDA.ipynb Cell 36'\u001b[0m in \u001b[0;36m<cell line: 1>\u001b[1;34m()\u001b[0m\n\u001b[1;32m----> <a href='vscode-notebook-cell:/c%3A/Users/Boborodono/Desktop/San_Antonio/Wilder/Initial_EDA/Initial_EDA.ipynb#ch0000028?line=0'>1</a>\u001b[0m get_100_percent_stacked_bar_chart(\u001b[39m'\u001b[39;49m\u001b[39mWork_Type\u001b[39;49m\u001b[39m'\u001b[39;49m)\n\u001b[0;32m      <a href='vscode-notebook-cell:/c%3A/Users/Boborodono/Desktop/San_Antonio/Wilder/Initial_EDA/Initial_EDA.ipynb#ch0000028?line=1'>2</a>\u001b[0m df\u001b[39m.\u001b[39mgroupby([\u001b[39m'\u001b[39m\u001b[39mWork_Type\u001b[39m\u001b[39m'\u001b[39m])[[\u001b[39m'\u001b[39m\u001b[39mAge\u001b[39m\u001b[39m'\u001b[39m]]\u001b[39m.\u001b[39magg([\u001b[39m'\u001b[39m\u001b[39mcount\u001b[39m\u001b[39m'\u001b[39m, \u001b[39m'\u001b[39m\u001b[39mmean\u001b[39m\u001b[39m'\u001b[39m])\n",
      "\u001b[1;32mc:\\Users\\Boborodono\\Desktop\\San_Antonio\\Wilder\\Initial_EDA\\Initial_EDA.ipynb Cell 16'\u001b[0m in \u001b[0;36mget_100_percent_stacked_bar_chart\u001b[1;34m(column, width)\u001b[0m\n\u001b[0;32m      <a href='vscode-notebook-cell:/c%3A/Users/Boborodono/Desktop/San_Antonio/Wilder/Initial_EDA/Initial_EDA.ipynb#ch0000044?line=7'>8</a>\u001b[0m \u001b[39m# Create proper DataFrames format\u001b[39;00m\n\u001b[0;32m      <a href='vscode-notebook-cell:/c%3A/Users/Boborodono/Desktop/San_Antonio/Wilder/Initial_EDA/Initial_EDA.ipynb#ch0000044?line=8'>9</a>\u001b[0m df_pct \u001b[39m=\u001b[39m df_pct\u001b[39m.\u001b[39munstack()\n\u001b[1;32m---> <a href='vscode-notebook-cell:/c%3A/Users/Boborodono/Desktop/San_Antonio/Wilder/Initial_EDA/Initial_EDA.ipynb#ch0000044?line=9'>10</a>\u001b[0m \u001b[39mreturn\u001b[39;00m df_pct\u001b[39m.\u001b[39;49mplot\u001b[39m.\u001b[39;49mbar(stacked\u001b[39m=\u001b[39;49m\u001b[39mTrue\u001b[39;49;00m, figsize\u001b[39m=\u001b[39;49m(\u001b[39m6.6\u001b[39;49m), width\u001b[39m=\u001b[39;49mwidth)\n",
      "File \u001b[1;32m~\\anaconda3\\envs\\PandasProfiling\\lib\\site-packages\\pandas\\plotting\\_core.py:1131\u001b[0m, in \u001b[0;36mPlotAccessor.bar\u001b[1;34m(self, x, y, **kwargs)\u001b[0m\n\u001b[0;32m   <a href='file:///c%3A/Users/Boborodono/anaconda3/envs/PandasProfiling/lib/site-packages/pandas/plotting/_core.py?line=1042'>1043</a>\u001b[0m \u001b[39m@Appender\u001b[39m(\n\u001b[0;32m   <a href='file:///c%3A/Users/Boborodono/anaconda3/envs/PandasProfiling/lib/site-packages/pandas/plotting/_core.py?line=1043'>1044</a>\u001b[0m     \u001b[39m\"\"\"\u001b[39;00m\n\u001b[0;32m   <a href='file:///c%3A/Users/Boborodono/anaconda3/envs/PandasProfiling/lib/site-packages/pandas/plotting/_core.py?line=1044'>1045</a>\u001b[0m \u001b[39m    See Also\u001b[39;00m\n\u001b[1;32m   (...)\u001b[0m\n\u001b[0;32m   <a href='file:///c%3A/Users/Boborodono/anaconda3/envs/PandasProfiling/lib/site-packages/pandas/plotting/_core.py?line=1119'>1120</a>\u001b[0m \u001b[39m@Appender\u001b[39m(_bar_or_line_doc)\n\u001b[0;32m   <a href='file:///c%3A/Users/Boborodono/anaconda3/envs/PandasProfiling/lib/site-packages/pandas/plotting/_core.py?line=1120'>1121</a>\u001b[0m \u001b[39mdef\u001b[39;00m \u001b[39mbar\u001b[39m(\u001b[39mself\u001b[39m, x\u001b[39m=\u001b[39m\u001b[39mNone\u001b[39;00m, y\u001b[39m=\u001b[39m\u001b[39mNone\u001b[39;00m, \u001b[39m*\u001b[39m\u001b[39m*\u001b[39mkwargs):\n\u001b[0;32m   <a href='file:///c%3A/Users/Boborodono/anaconda3/envs/PandasProfiling/lib/site-packages/pandas/plotting/_core.py?line=1121'>1122</a>\u001b[0m     \u001b[39m\"\"\"\u001b[39;00m\n\u001b[0;32m   <a href='file:///c%3A/Users/Boborodono/anaconda3/envs/PandasProfiling/lib/site-packages/pandas/plotting/_core.py?line=1122'>1123</a>\u001b[0m \u001b[39m    Vertical bar plot.\u001b[39;00m\n\u001b[0;32m   <a href='file:///c%3A/Users/Boborodono/anaconda3/envs/PandasProfiling/lib/site-packages/pandas/plotting/_core.py?line=1123'>1124</a>\u001b[0m \n\u001b[1;32m   (...)\u001b[0m\n\u001b[0;32m   <a href='file:///c%3A/Users/Boborodono/anaconda3/envs/PandasProfiling/lib/site-packages/pandas/plotting/_core.py?line=1128'>1129</a>\u001b[0m \u001b[39m    other axis represents a measured value.\u001b[39;00m\n\u001b[0;32m   <a href='file:///c%3A/Users/Boborodono/anaconda3/envs/PandasProfiling/lib/site-packages/pandas/plotting/_core.py?line=1129'>1130</a>\u001b[0m \u001b[39m    \"\"\"\u001b[39;00m\n\u001b[1;32m-> <a href='file:///c%3A/Users/Boborodono/anaconda3/envs/PandasProfiling/lib/site-packages/pandas/plotting/_core.py?line=1130'>1131</a>\u001b[0m     \u001b[39mreturn\u001b[39;00m \u001b[39mself\u001b[39;49m(kind\u001b[39m=\u001b[39;49m\u001b[39m\"\u001b[39;49m\u001b[39mbar\u001b[39;49m\u001b[39m\"\u001b[39;49m, x\u001b[39m=\u001b[39;49mx, y\u001b[39m=\u001b[39;49my, \u001b[39m*\u001b[39;49m\u001b[39m*\u001b[39;49mkwargs)\n",
      "File \u001b[1;32m~\\anaconda3\\envs\\PandasProfiling\\lib\\site-packages\\pandas\\plotting\\_core.py:972\u001b[0m, in \u001b[0;36mPlotAccessor.__call__\u001b[1;34m(self, *args, **kwargs)\u001b[0m\n\u001b[0;32m    <a href='file:///c%3A/Users/Boborodono/anaconda3/envs/PandasProfiling/lib/site-packages/pandas/plotting/_core.py?line=968'>969</a>\u001b[0m             label_name \u001b[39m=\u001b[39m label_kw \u001b[39mor\u001b[39;00m data\u001b[39m.\u001b[39mcolumns\n\u001b[0;32m    <a href='file:///c%3A/Users/Boborodono/anaconda3/envs/PandasProfiling/lib/site-packages/pandas/plotting/_core.py?line=969'>970</a>\u001b[0m             data\u001b[39m.\u001b[39mcolumns \u001b[39m=\u001b[39m label_name\n\u001b[1;32m--> <a href='file:///c%3A/Users/Boborodono/anaconda3/envs/PandasProfiling/lib/site-packages/pandas/plotting/_core.py?line=971'>972</a>\u001b[0m \u001b[39mreturn\u001b[39;00m plot_backend\u001b[39m.\u001b[39;49mplot(data, kind\u001b[39m=\u001b[39;49mkind, \u001b[39m*\u001b[39;49m\u001b[39m*\u001b[39;49mkwargs)\n",
      "File \u001b[1;32m~\\anaconda3\\envs\\PandasProfiling\\lib\\site-packages\\pandas\\plotting\\_matplotlib\\__init__.py:71\u001b[0m, in \u001b[0;36mplot\u001b[1;34m(data, kind, **kwargs)\u001b[0m\n\u001b[0;32m     <a href='file:///c%3A/Users/Boborodono/anaconda3/envs/PandasProfiling/lib/site-packages/pandas/plotting/_matplotlib/__init__.py?line=68'>69</a>\u001b[0m         kwargs[\u001b[39m\"\u001b[39m\u001b[39max\u001b[39m\u001b[39m\"\u001b[39m] \u001b[39m=\u001b[39m \u001b[39mgetattr\u001b[39m(ax, \u001b[39m\"\u001b[39m\u001b[39mleft_ax\u001b[39m\u001b[39m\"\u001b[39m, ax)\n\u001b[0;32m     <a href='file:///c%3A/Users/Boborodono/anaconda3/envs/PandasProfiling/lib/site-packages/pandas/plotting/_matplotlib/__init__.py?line=69'>70</a>\u001b[0m plot_obj \u001b[39m=\u001b[39m PLOT_CLASSES[kind](data, \u001b[39m*\u001b[39m\u001b[39m*\u001b[39mkwargs)\n\u001b[1;32m---> <a href='file:///c%3A/Users/Boborodono/anaconda3/envs/PandasProfiling/lib/site-packages/pandas/plotting/_matplotlib/__init__.py?line=70'>71</a>\u001b[0m plot_obj\u001b[39m.\u001b[39;49mgenerate()\n\u001b[0;32m     <a href='file:///c%3A/Users/Boborodono/anaconda3/envs/PandasProfiling/lib/site-packages/pandas/plotting/_matplotlib/__init__.py?line=71'>72</a>\u001b[0m plot_obj\u001b[39m.\u001b[39mdraw()\n\u001b[0;32m     <a href='file:///c%3A/Users/Boborodono/anaconda3/envs/PandasProfiling/lib/site-packages/pandas/plotting/_matplotlib/__init__.py?line=72'>73</a>\u001b[0m \u001b[39mreturn\u001b[39;00m plot_obj\u001b[39m.\u001b[39mresult\n",
      "File \u001b[1;32m~\\anaconda3\\envs\\PandasProfiling\\lib\\site-packages\\pandas\\plotting\\_matplotlib\\core.py:328\u001b[0m, in \u001b[0;36mMPLPlot.generate\u001b[1;34m(self)\u001b[0m\n\u001b[0;32m    <a href='file:///c%3A/Users/Boborodono/anaconda3/envs/PandasProfiling/lib/site-packages/pandas/plotting/_matplotlib/core.py?line=325'>326</a>\u001b[0m \u001b[39mself\u001b[39m\u001b[39m.\u001b[39m_args_adjust()\n\u001b[0;32m    <a href='file:///c%3A/Users/Boborodono/anaconda3/envs/PandasProfiling/lib/site-packages/pandas/plotting/_matplotlib/core.py?line=326'>327</a>\u001b[0m \u001b[39mself\u001b[39m\u001b[39m.\u001b[39m_compute_plot_data()\n\u001b[1;32m--> <a href='file:///c%3A/Users/Boborodono/anaconda3/envs/PandasProfiling/lib/site-packages/pandas/plotting/_matplotlib/core.py?line=327'>328</a>\u001b[0m \u001b[39mself\u001b[39;49m\u001b[39m.\u001b[39;49m_setup_subplots()\n\u001b[0;32m    <a href='file:///c%3A/Users/Boborodono/anaconda3/envs/PandasProfiling/lib/site-packages/pandas/plotting/_matplotlib/core.py?line=328'>329</a>\u001b[0m \u001b[39mself\u001b[39m\u001b[39m.\u001b[39m_make_plot()\n\u001b[0;32m    <a href='file:///c%3A/Users/Boborodono/anaconda3/envs/PandasProfiling/lib/site-packages/pandas/plotting/_matplotlib/core.py?line=329'>330</a>\u001b[0m \u001b[39mself\u001b[39m\u001b[39m.\u001b[39m_add_table()\n",
      "File \u001b[1;32m~\\anaconda3\\envs\\PandasProfiling\\lib\\site-packages\\pandas\\plotting\\_matplotlib\\core.py:386\u001b[0m, in \u001b[0;36mMPLPlot._setup_subplots\u001b[1;34m(self)\u001b[0m\n\u001b[0;32m    <a href='file:///c%3A/Users/Boborodono/anaconda3/envs/PandasProfiling/lib/site-packages/pandas/plotting/_matplotlib/core.py?line=383'>384</a>\u001b[0m \u001b[39melse\u001b[39;00m:\n\u001b[0;32m    <a href='file:///c%3A/Users/Boborodono/anaconda3/envs/PandasProfiling/lib/site-packages/pandas/plotting/_matplotlib/core.py?line=384'>385</a>\u001b[0m     \u001b[39mif\u001b[39;00m \u001b[39mself\u001b[39m\u001b[39m.\u001b[39max \u001b[39mis\u001b[39;00m \u001b[39mNone\u001b[39;00m:\n\u001b[1;32m--> <a href='file:///c%3A/Users/Boborodono/anaconda3/envs/PandasProfiling/lib/site-packages/pandas/plotting/_matplotlib/core.py?line=385'>386</a>\u001b[0m         fig \u001b[39m=\u001b[39m \u001b[39mself\u001b[39;49m\u001b[39m.\u001b[39;49mplt\u001b[39m.\u001b[39;49mfigure(figsize\u001b[39m=\u001b[39;49m\u001b[39mself\u001b[39;49m\u001b[39m.\u001b[39;49mfigsize)\n\u001b[0;32m    <a href='file:///c%3A/Users/Boborodono/anaconda3/envs/PandasProfiling/lib/site-packages/pandas/plotting/_matplotlib/core.py?line=386'>387</a>\u001b[0m         axes \u001b[39m=\u001b[39m fig\u001b[39m.\u001b[39madd_subplot(\u001b[39m111\u001b[39m)\n\u001b[0;32m    <a href='file:///c%3A/Users/Boborodono/anaconda3/envs/PandasProfiling/lib/site-packages/pandas/plotting/_matplotlib/core.py?line=387'>388</a>\u001b[0m     \u001b[39melse\u001b[39;00m:\n",
      "File \u001b[1;32m~\\anaconda3\\envs\\PandasProfiling\\lib\\site-packages\\matplotlib\\pyplot.py:787\u001b[0m, in \u001b[0;36mfigure\u001b[1;34m(num, figsize, dpi, facecolor, edgecolor, frameon, FigureClass, clear, **kwargs)\u001b[0m\n\u001b[0;32m    <a href='file:///c%3A/Users/Boborodono/anaconda3/envs/PandasProfiling/lib/site-packages/matplotlib/pyplot.py?line=777'>778</a>\u001b[0m \u001b[39mif\u001b[39;00m \u001b[39mlen\u001b[39m(allnums) \u001b[39m==\u001b[39m max_open_warning \u001b[39m>\u001b[39m\u001b[39m=\u001b[39m \u001b[39m1\u001b[39m:\n\u001b[0;32m    <a href='file:///c%3A/Users/Boborodono/anaconda3/envs/PandasProfiling/lib/site-packages/matplotlib/pyplot.py?line=778'>779</a>\u001b[0m     _api\u001b[39m.\u001b[39mwarn_external(\n\u001b[0;32m    <a href='file:///c%3A/Users/Boborodono/anaconda3/envs/PandasProfiling/lib/site-packages/matplotlib/pyplot.py?line=779'>780</a>\u001b[0m         \u001b[39mf\u001b[39m\u001b[39m\"\u001b[39m\u001b[39mMore than \u001b[39m\u001b[39m{\u001b[39;00mmax_open_warning\u001b[39m}\u001b[39;00m\u001b[39m figures have been opened. \u001b[39m\u001b[39m\"\u001b[39m\n\u001b[0;32m    <a href='file:///c%3A/Users/Boborodono/anaconda3/envs/PandasProfiling/lib/site-packages/matplotlib/pyplot.py?line=780'>781</a>\u001b[0m         \u001b[39mf\u001b[39m\u001b[39m\"\u001b[39m\u001b[39mFigures created through the pyplot interface \u001b[39m\u001b[39m\"\u001b[39m\n\u001b[1;32m   (...)\u001b[0m\n\u001b[0;32m    <a href='file:///c%3A/Users/Boborodono/anaconda3/envs/PandasProfiling/lib/site-packages/matplotlib/pyplot.py?line=783'>784</a>\u001b[0m         \u001b[39mf\u001b[39m\u001b[39m\"\u001b[39m\u001b[39mwarning, see the rcParam `figure.max_open_warning`).\u001b[39m\u001b[39m\"\u001b[39m,\n\u001b[0;32m    <a href='file:///c%3A/Users/Boborodono/anaconda3/envs/PandasProfiling/lib/site-packages/matplotlib/pyplot.py?line=784'>785</a>\u001b[0m         \u001b[39mRuntimeWarning\u001b[39;00m)\n\u001b[1;32m--> <a href='file:///c%3A/Users/Boborodono/anaconda3/envs/PandasProfiling/lib/site-packages/matplotlib/pyplot.py?line=786'>787</a>\u001b[0m manager \u001b[39m=\u001b[39m new_figure_manager(\n\u001b[0;32m    <a href='file:///c%3A/Users/Boborodono/anaconda3/envs/PandasProfiling/lib/site-packages/matplotlib/pyplot.py?line=787'>788</a>\u001b[0m     num, figsize\u001b[39m=\u001b[39;49mfigsize, dpi\u001b[39m=\u001b[39;49mdpi,\n\u001b[0;32m    <a href='file:///c%3A/Users/Boborodono/anaconda3/envs/PandasProfiling/lib/site-packages/matplotlib/pyplot.py?line=788'>789</a>\u001b[0m     facecolor\u001b[39m=\u001b[39;49mfacecolor, edgecolor\u001b[39m=\u001b[39;49medgecolor, frameon\u001b[39m=\u001b[39;49mframeon,\n\u001b[0;32m    <a href='file:///c%3A/Users/Boborodono/anaconda3/envs/PandasProfiling/lib/site-packages/matplotlib/pyplot.py?line=789'>790</a>\u001b[0m     FigureClass\u001b[39m=\u001b[39;49mFigureClass, \u001b[39m*\u001b[39;49m\u001b[39m*\u001b[39;49mkwargs)\n\u001b[0;32m    <a href='file:///c%3A/Users/Boborodono/anaconda3/envs/PandasProfiling/lib/site-packages/matplotlib/pyplot.py?line=790'>791</a>\u001b[0m fig \u001b[39m=\u001b[39m manager\u001b[39m.\u001b[39mcanvas\u001b[39m.\u001b[39mfigure\n\u001b[0;32m    <a href='file:///c%3A/Users/Boborodono/anaconda3/envs/PandasProfiling/lib/site-packages/matplotlib/pyplot.py?line=791'>792</a>\u001b[0m \u001b[39mif\u001b[39;00m fig_label:\n",
      "File \u001b[1;32m~\\anaconda3\\envs\\PandasProfiling\\lib\\site-packages\\matplotlib\\pyplot.py:306\u001b[0m, in \u001b[0;36mnew_figure_manager\u001b[1;34m(*args, **kwargs)\u001b[0m\n\u001b[0;32m    <a href='file:///c%3A/Users/Boborodono/anaconda3/envs/PandasProfiling/lib/site-packages/matplotlib/pyplot.py?line=303'>304</a>\u001b[0m \u001b[39m\"\"\"Create a new figure manager instance.\"\"\"\u001b[39;00m\n\u001b[0;32m    <a href='file:///c%3A/Users/Boborodono/anaconda3/envs/PandasProfiling/lib/site-packages/matplotlib/pyplot.py?line=304'>305</a>\u001b[0m _warn_if_gui_out_of_main_thread()\n\u001b[1;32m--> <a href='file:///c%3A/Users/Boborodono/anaconda3/envs/PandasProfiling/lib/site-packages/matplotlib/pyplot.py?line=305'>306</a>\u001b[0m \u001b[39mreturn\u001b[39;00m _backend_mod\u001b[39m.\u001b[39;49mnew_figure_manager(\u001b[39m*\u001b[39;49margs, \u001b[39m*\u001b[39;49m\u001b[39m*\u001b[39;49mkwargs)\n",
      "File \u001b[1;32m~\\anaconda3\\envs\\PandasProfiling\\lib\\site-packages\\matplotlib\\backend_bases.py:3493\u001b[0m, in \u001b[0;36m_Backend.new_figure_manager\u001b[1;34m(cls, num, *args, **kwargs)\u001b[0m\n\u001b[0;32m   <a href='file:///c%3A/Users/Boborodono/anaconda3/envs/PandasProfiling/lib/site-packages/matplotlib/backend_bases.py?line=3490'>3491</a>\u001b[0m \u001b[39mfrom\u001b[39;00m \u001b[39mmatplotlib\u001b[39;00m\u001b[39m.\u001b[39;00m\u001b[39mfigure\u001b[39;00m \u001b[39mimport\u001b[39;00m Figure\n\u001b[0;32m   <a href='file:///c%3A/Users/Boborodono/anaconda3/envs/PandasProfiling/lib/site-packages/matplotlib/backend_bases.py?line=3491'>3492</a>\u001b[0m fig_cls \u001b[39m=\u001b[39m kwargs\u001b[39m.\u001b[39mpop(\u001b[39m'\u001b[39m\u001b[39mFigureClass\u001b[39m\u001b[39m'\u001b[39m, Figure)\n\u001b[1;32m-> <a href='file:///c%3A/Users/Boborodono/anaconda3/envs/PandasProfiling/lib/site-packages/matplotlib/backend_bases.py?line=3492'>3493</a>\u001b[0m fig \u001b[39m=\u001b[39m fig_cls(\u001b[39m*\u001b[39;49margs, \u001b[39m*\u001b[39;49m\u001b[39m*\u001b[39;49mkwargs)\n\u001b[0;32m   <a href='file:///c%3A/Users/Boborodono/anaconda3/envs/PandasProfiling/lib/site-packages/matplotlib/backend_bases.py?line=3493'>3494</a>\u001b[0m \u001b[39mreturn\u001b[39;00m \u001b[39mcls\u001b[39m\u001b[39m.\u001b[39mnew_figure_manager_given_figure(num, fig)\n",
      "File \u001b[1;32m~\\anaconda3\\envs\\PandasProfiling\\lib\\site-packages\\matplotlib\\figure.py:2282\u001b[0m, in \u001b[0;36mFigure.__init__\u001b[1;34m(self, figsize, dpi, facecolor, edgecolor, linewidth, frameon, subplotpars, tight_layout, constrained_layout, layout, **kwargs)\u001b[0m\n\u001b[0;32m   <a href='file:///c%3A/Users/Boborodono/anaconda3/envs/PandasProfiling/lib/site-packages/matplotlib/figure.py?line=2278'>2279</a>\u001b[0m \u001b[39mif\u001b[39;00m \u001b[39mnot\u001b[39;00m np\u001b[39m.\u001b[39misfinite(figsize)\u001b[39m.\u001b[39mall() \u001b[39mor\u001b[39;00m (np\u001b[39m.\u001b[39marray(figsize) \u001b[39m<\u001b[39m \u001b[39m0\u001b[39m)\u001b[39m.\u001b[39many():\n\u001b[0;32m   <a href='file:///c%3A/Users/Boborodono/anaconda3/envs/PandasProfiling/lib/site-packages/matplotlib/figure.py?line=2279'>2280</a>\u001b[0m     \u001b[39mraise\u001b[39;00m \u001b[39mValueError\u001b[39;00m(\u001b[39m'\u001b[39m\u001b[39mfigure size must be positive finite not \u001b[39m\u001b[39m'\u001b[39m\n\u001b[0;32m   <a href='file:///c%3A/Users/Boborodono/anaconda3/envs/PandasProfiling/lib/site-packages/matplotlib/figure.py?line=2280'>2281</a>\u001b[0m                      \u001b[39mf\u001b[39m\u001b[39m'\u001b[39m\u001b[39m{\u001b[39;00mfigsize\u001b[39m}\u001b[39;00m\u001b[39m'\u001b[39m)\n\u001b[1;32m-> <a href='file:///c%3A/Users/Boborodono/anaconda3/envs/PandasProfiling/lib/site-packages/matplotlib/figure.py?line=2281'>2282</a>\u001b[0m \u001b[39mself\u001b[39m\u001b[39m.\u001b[39mbbox_inches \u001b[39m=\u001b[39m Bbox\u001b[39m.\u001b[39mfrom_bounds(\u001b[39m0\u001b[39m, \u001b[39m0\u001b[39m, \u001b[39m*\u001b[39mfigsize)\n\u001b[0;32m   <a href='file:///c%3A/Users/Boborodono/anaconda3/envs/PandasProfiling/lib/site-packages/matplotlib/figure.py?line=2283'>2284</a>\u001b[0m \u001b[39mself\u001b[39m\u001b[39m.\u001b[39mdpi_scale_trans \u001b[39m=\u001b[39m Affine2D()\u001b[39m.\u001b[39mscale(dpi)\n\u001b[0;32m   <a href='file:///c%3A/Users/Boborodono/anaconda3/envs/PandasProfiling/lib/site-packages/matplotlib/figure.py?line=2284'>2285</a>\u001b[0m \u001b[39m# do not use property as it will trigger\u001b[39;00m\n",
      "\u001b[1;31mTypeError\u001b[0m: from_bounds() argument after * must be an iterable, not float"
     ]
    }
   ],
   "source": [
    "get_100_percent_stacked_bar_chart('Work_Type')\n",
    "df.groupby(['Work_Type'])[['Age']].agg(['count', 'mean'])"
   ]
  },
  {
   "cell_type": "markdown",
   "metadata": {},
   "source": [
    "## Ever-Married"
   ]
  },
  {
   "cell_type": "code",
   "execution_count": null,
   "metadata": {},
   "outputs": [],
   "source": []
  },
  {
   "cell_type": "markdown",
   "metadata": {},
   "source": []
  },
  {
   "cell_type": "code",
   "execution_count": null,
   "metadata": {},
   "outputs": [],
   "source": []
  },
  {
   "cell_type": "markdown",
   "metadata": {},
   "source": []
  },
  {
   "cell_type": "code",
   "execution_count": null,
   "metadata": {},
   "outputs": [],
   "source": []
  },
  {
   "cell_type": "markdown",
   "metadata": {},
   "source": []
  },
  {
   "cell_type": "code",
   "execution_count": null,
   "metadata": {},
   "outputs": [],
   "source": []
  }
 ],
 "metadata": {
  "interpreter": {
   "hash": "0020b07984148314aab4e85ca4356368e8ff6fe28858a59af098a016fcc61ba5"
  },
  "kernelspec": {
   "display_name": "Python 3.8.12 ('PandasProfiling')",
   "language": "python",
   "name": "python3"
  },
  "language_info": {
   "codemirror_mode": {
    "name": "ipython",
    "version": 3
   },
   "file_extension": ".py",
   "mimetype": "text/x-python",
   "name": "python",
   "nbconvert_exporter": "python",
   "pygments_lexer": "ipython3",
   "version": "3.8.12"
  },
  "orig_nbformat": 4
 },
 "nbformat": 4,
 "nbformat_minor": 2
}
