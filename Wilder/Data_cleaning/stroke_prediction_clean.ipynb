{
 "cells": [
  {
   "cell_type": "markdown",
   "metadata": {},
   "source": [
    "# Cleaning \"Stroke Prediction Dataset\" (Parquet) with Pandas"
   ]
  },
  {
   "cell_type": "markdown",
   "metadata": {},
   "source": [
    "## Import Dependencies"
   ]
  },
  {
   "cell_type": "code",
   "execution_count": 1,
   "metadata": {},
   "outputs": [
    {
     "name": "stdout",
     "output_type": "stream",
     "text": [
      "time: 2.91 s (started: 2022-03-15 23:43:24 -05:00)\n"
     ]
    }
   ],
   "source": [
    "%load_ext autotime\n",
    "import time\n",
    "start = time.time()\n",
    "#* BEGINS TIMER ^^\n",
    "\n",
    "import os\n",
    "import pandas as pd\n",
    "import numpy as np\n",
    "import pyarrow.parquet as pq"
   ]
  },
  {
   "cell_type": "markdown",
   "metadata": {},
   "source": [
    "## Load and Read Parquet Dataset into Pandas DataFrame"
   ]
  },
  {
   "cell_type": "code",
   "execution_count": 2,
   "metadata": {},
   "outputs": [
    {
     "name": "stdout",
     "output_type": "stream",
     "text": [
      "Wall time: 112 ms\n",
      "time: 109 ms (started: 2022-03-15 23:43:27 -05:00)\n"
     ]
    }
   ],
   "source": [
    "%%time\n",
    "#? Load File\n",
    "Path = \"1_parquet_conversion/stroke.parquet.gzip\"\n",
    "\n",
    "#? Read the CSVs into a dataframe\n",
    "stroke_df = pd.read_parquet(Path)"
   ]
  },
  {
   "cell_type": "markdown",
   "metadata": {},
   "source": [
    "## Show DataFrame"
   ]
  },
  {
   "cell_type": "code",
   "execution_count": 3,
   "metadata": {},
   "outputs": [
    {
     "data": {
      "text/html": [
       "<div>\n",
       "<style scoped>\n",
       "    .dataframe tbody tr th:only-of-type {\n",
       "        vertical-align: middle;\n",
       "    }\n",
       "\n",
       "    .dataframe tbody tr th {\n",
       "        vertical-align: top;\n",
       "    }\n",
       "\n",
       "    .dataframe thead th {\n",
       "        text-align: right;\n",
       "    }\n",
       "</style>\n",
       "<table border=\"1\" class=\"dataframe\">\n",
       "  <thead>\n",
       "    <tr style=\"text-align: right;\">\n",
       "      <th></th>\n",
       "      <th>id</th>\n",
       "      <th>gender</th>\n",
       "      <th>age</th>\n",
       "      <th>hypertension</th>\n",
       "      <th>heart_disease</th>\n",
       "      <th>ever_married</th>\n",
       "      <th>work_type</th>\n",
       "      <th>Residence_type</th>\n",
       "      <th>avg_glucose_level</th>\n",
       "      <th>bmi</th>\n",
       "      <th>smoking_status</th>\n",
       "      <th>stroke</th>\n",
       "    </tr>\n",
       "  </thead>\n",
       "  <tbody>\n",
       "    <tr>\n",
       "      <th>4577</th>\n",
       "      <td>12668</td>\n",
       "      <td>Male</td>\n",
       "      <td>68.0</td>\n",
       "      <td>0</td>\n",
       "      <td>0</td>\n",
       "      <td>Yes</td>\n",
       "      <td>Self-employed</td>\n",
       "      <td>Urban</td>\n",
       "      <td>195.43</td>\n",
       "      <td>28.9</td>\n",
       "      <td>never smoked</td>\n",
       "      <td>0</td>\n",
       "    </tr>\n",
       "    <tr>\n",
       "      <th>4353</th>\n",
       "      <td>35999</td>\n",
       "      <td>Female</td>\n",
       "      <td>52.0</td>\n",
       "      <td>0</td>\n",
       "      <td>0</td>\n",
       "      <td>Yes</td>\n",
       "      <td>Private</td>\n",
       "      <td>Urban</td>\n",
       "      <td>86.85</td>\n",
       "      <td>23.8</td>\n",
       "      <td>formerly smoked</td>\n",
       "      <td>0</td>\n",
       "    </tr>\n",
       "    <tr>\n",
       "      <th>2978</th>\n",
       "      <td>2218</td>\n",
       "      <td>Male</td>\n",
       "      <td>42.0</td>\n",
       "      <td>0</td>\n",
       "      <td>0</td>\n",
       "      <td>Yes</td>\n",
       "      <td>Private</td>\n",
       "      <td>Rural</td>\n",
       "      <td>107.83</td>\n",
       "      <td>35.3</td>\n",
       "      <td>smokes</td>\n",
       "      <td>0</td>\n",
       "    </tr>\n",
       "    <tr>\n",
       "      <th>3545</th>\n",
       "      <td>71097</td>\n",
       "      <td>Female</td>\n",
       "      <td>23.0</td>\n",
       "      <td>0</td>\n",
       "      <td>0</td>\n",
       "      <td>No</td>\n",
       "      <td>Private</td>\n",
       "      <td>Urban</td>\n",
       "      <td>64.94</td>\n",
       "      <td>18.8</td>\n",
       "      <td>never smoked</td>\n",
       "      <td>0</td>\n",
       "    </tr>\n",
       "    <tr>\n",
       "      <th>3735</th>\n",
       "      <td>27176</td>\n",
       "      <td>Female</td>\n",
       "      <td>69.0</td>\n",
       "      <td>0</td>\n",
       "      <td>0</td>\n",
       "      <td>Yes</td>\n",
       "      <td>Private</td>\n",
       "      <td>Rural</td>\n",
       "      <td>103.73</td>\n",
       "      <td>34.7</td>\n",
       "      <td>never smoked</td>\n",
       "      <td>0</td>\n",
       "    </tr>\n",
       "  </tbody>\n",
       "</table>\n",
       "</div>"
      ],
      "text/plain": [
       "         id  gender   age  hypertension  heart_disease ever_married  \\\n",
       "4577  12668    Male  68.0             0              0          Yes   \n",
       "4353  35999  Female  52.0             0              0          Yes   \n",
       "2978   2218    Male  42.0             0              0          Yes   \n",
       "3545  71097  Female  23.0             0              0           No   \n",
       "3735  27176  Female  69.0             0              0          Yes   \n",
       "\n",
       "          work_type Residence_type  avg_glucose_level   bmi   smoking_status  \\\n",
       "4577  Self-employed          Urban             195.43  28.9     never smoked   \n",
       "4353        Private          Urban              86.85  23.8  formerly smoked   \n",
       "2978        Private          Rural             107.83  35.3           smokes   \n",
       "3545        Private          Urban              64.94  18.8     never smoked   \n",
       "3735        Private          Rural             103.73  34.7     never smoked   \n",
       "\n",
       "      stroke  \n",
       "4577       0  \n",
       "4353       0  \n",
       "2978       0  \n",
       "3545       0  \n",
       "3735       0  "
      ]
     },
     "execution_count": 3,
     "metadata": {},
     "output_type": "execute_result"
    },
    {
     "name": "stdout",
     "output_type": "stream",
     "text": [
      "time: 32 ms (started: 2022-03-15 23:43:28 -05:00)\n"
     ]
    }
   ],
   "source": [
    "stroke_df.sample(5)"
   ]
  },
  {
   "cell_type": "markdown",
   "metadata": {},
   "source": [
    "## Show Data Types"
   ]
  },
  {
   "cell_type": "code",
   "execution_count": 4,
   "metadata": {},
   "outputs": [
    {
     "name": "stdout",
     "output_type": "stream",
     "text": [
      "<class 'pandas.core.frame.DataFrame'>\n",
      "RangeIndex: 5110 entries, 0 to 5109\n",
      "Data columns (total 12 columns):\n",
      " #   Column             Non-Null Count  Dtype  \n",
      "---  ------             --------------  -----  \n",
      " 0   id                 5110 non-null   int64  \n",
      " 1   gender             5110 non-null   object \n",
      " 2   age                5110 non-null   float64\n",
      " 3   hypertension       5110 non-null   int64  \n",
      " 4   heart_disease      5110 non-null   int64  \n",
      " 5   ever_married       5110 non-null   object \n",
      " 6   work_type          5110 non-null   object \n",
      " 7   Residence_type     5110 non-null   object \n",
      " 8   avg_glucose_level  5110 non-null   float64\n",
      " 9   bmi                4909 non-null   float64\n",
      " 10  smoking_status     5110 non-null   object \n",
      " 11  stroke             5110 non-null   int64  \n",
      "dtypes: float64(3), int64(4), object(5)\n",
      "memory usage: 479.2+ KB\n",
      "time: 16 ms (started: 2022-03-15 23:43:28 -05:00)\n"
     ]
    }
   ],
   "source": [
    "stroke_df.info()"
   ]
  },
  {
   "cell_type": "markdown",
   "metadata": {},
   "source": [
    "## Convert to the smallest datatype possible for each numeric column"
   ]
  },
  {
   "cell_type": "code",
   "execution_count": 5,
   "metadata": {},
   "outputs": [
    {
     "name": "stdout",
     "output_type": "stream",
     "text": [
      "time: 0 ns (started: 2022-03-15 23:43:28 -05:00)\n"
     ]
    }
   ],
   "source": [
    "#? FLOATS\n",
    "# float_cols = stroke_df.select_dtypes(include=['float'])\n",
    "\n",
    "# for cols in float_cols.columns:\n",
    "#     stroke_df[cols] = pd.to_numeric(stroke_df[cols], downcast = 'float')\n",
    "\n",
    "#! I commented out the above because it was causing the decimal places to extend and I couldn't use \"np.round\" to round back to 1 or 2 decimal places"
   ]
  },
  {
   "cell_type": "code",
   "execution_count": 6,
   "metadata": {},
   "outputs": [
    {
     "name": "stdout",
     "output_type": "stream",
     "text": [
      "time: 15 ms (started: 2022-03-15 23:43:28 -05:00)\n"
     ]
    }
   ],
   "source": [
    "#? INTEGERS\n",
    "int_cols = stroke_df.select_dtypes(include=['int'])\n",
    "\n",
    "for cols in int_cols.columns:\n",
    "    stroke_df[cols] = pd.to_numeric(stroke_df[cols], downcast = 'integer')"
   ]
  },
  {
   "cell_type": "markdown",
   "metadata": {},
   "source": [
    "## Show Changed Data Types"
   ]
  },
  {
   "cell_type": "code",
   "execution_count": 7,
   "metadata": {},
   "outputs": [
    {
     "name": "stdout",
     "output_type": "stream",
     "text": [
      "<class 'pandas.core.frame.DataFrame'>\n",
      "RangeIndex: 5110 entries, 0 to 5109\n",
      "Data columns (total 12 columns):\n",
      " #   Column             Non-Null Count  Dtype  \n",
      "---  ------             --------------  -----  \n",
      " 0   id                 5110 non-null   int32  \n",
      " 1   gender             5110 non-null   object \n",
      " 2   age                5110 non-null   float64\n",
      " 3   hypertension       5110 non-null   int8   \n",
      " 4   heart_disease      5110 non-null   int8   \n",
      " 5   ever_married       5110 non-null   object \n",
      " 6   work_type          5110 non-null   object \n",
      " 7   Residence_type     5110 non-null   object \n",
      " 8   avg_glucose_level  5110 non-null   float64\n",
      " 9   bmi                4909 non-null   float64\n",
      " 10  smoking_status     5110 non-null   object \n",
      " 11  stroke             5110 non-null   int8   \n",
      "dtypes: float64(3), int32(1), int8(3), object(5)\n",
      "memory usage: 354.4+ KB\n",
      "time: 15 ms (started: 2022-03-15 23:43:29 -05:00)\n"
     ]
    }
   ],
   "source": [
    "stroke_df.info()"
   ]
  },
  {
   "cell_type": "markdown",
   "metadata": {},
   "source": [
    "## Manully Convert 'age', 'avg_glucose_level', & 'bmi' columns to smallest datatype"
   ]
  },
  {
   "cell_type": "code",
   "execution_count": 8,
   "metadata": {},
   "outputs": [
    {
     "name": "stdout",
     "output_type": "stream",
     "text": [
      "time: 0 ns (started: 2022-03-15 23:43:29 -05:00)\n"
     ]
    }
   ],
   "source": [
    "# INTEGERS\n",
    "stroke_df['age'] = stroke_df['age'].astype('int8')\n",
    "\n",
    "# FLOATS\n",
    "# stroke_df['avg_glucose_level'] = stroke_df['avg_glucose_level'].astype('float32')\n",
    "# stroke_df['bmi'] = stroke_df['bmi'].astype('float32')\n",
    "\n",
    "#! It doesn't work this way either!!"
   ]
  },
  {
   "cell_type": "code",
   "execution_count": 9,
   "metadata": {},
   "outputs": [
    {
     "name": "stdout",
     "output_type": "stream",
     "text": [
      "<class 'pandas.core.frame.DataFrame'>\n",
      "RangeIndex: 5110 entries, 0 to 5109\n",
      "Data columns (total 12 columns):\n",
      " #   Column             Non-Null Count  Dtype  \n",
      "---  ------             --------------  -----  \n",
      " 0   id                 5110 non-null   int32  \n",
      " 1   gender             5110 non-null   object \n",
      " 2   age                5110 non-null   int8   \n",
      " 3   hypertension       5110 non-null   int8   \n",
      " 4   heart_disease      5110 non-null   int8   \n",
      " 5   ever_married       5110 non-null   object \n",
      " 6   work_type          5110 non-null   object \n",
      " 7   Residence_type     5110 non-null   object \n",
      " 8   avg_glucose_level  5110 non-null   float64\n",
      " 9   bmi                4909 non-null   float64\n",
      " 10  smoking_status     5110 non-null   object \n",
      " 11  stroke             5110 non-null   int8   \n",
      "dtypes: float64(2), int32(1), int8(4), object(5)\n",
      "memory usage: 319.5+ KB\n",
      "time: 31 ms (started: 2022-03-15 23:43:29 -05:00)\n"
     ]
    }
   ],
   "source": [
    "stroke_df.info()"
   ]
  },
  {
   "cell_type": "markdown",
   "metadata": {},
   "source": [
    "## What is the Shape of the DataFrame?"
   ]
  },
  {
   "cell_type": "code",
   "execution_count": 10,
   "metadata": {},
   "outputs": [
    {
     "data": {
      "text/plain": [
       "(5110, 12)"
      ]
     },
     "execution_count": 10,
     "metadata": {},
     "output_type": "execute_result"
    },
    {
     "name": "stdout",
     "output_type": "stream",
     "text": [
      "time: 0 ns (started: 2022-03-15 23:43:30 -05:00)\n"
     ]
    }
   ],
   "source": [
    "stroke_df.shape"
   ]
  },
  {
   "cell_type": "markdown",
   "metadata": {},
   "source": [
    "## Find Missing Values"
   ]
  },
  {
   "cell_type": "markdown",
   "metadata": {},
   "source": [
    "### Count Method"
   ]
  },
  {
   "cell_type": "code",
   "execution_count": 11,
   "metadata": {},
   "outputs": [
    {
     "data": {
      "text/plain": [
       "id                   5110\n",
       "gender               5110\n",
       "age                  5110\n",
       "hypertension         5110\n",
       "heart_disease        5110\n",
       "ever_married         5110\n",
       "work_type            5110\n",
       "Residence_type       5110\n",
       "avg_glucose_level    5110\n",
       "bmi                  4909\n",
       "smoking_status       5110\n",
       "stroke               5110\n",
       "dtype: int64"
      ]
     },
     "execution_count": 11,
     "metadata": {},
     "output_type": "execute_result"
    },
    {
     "name": "stdout",
     "output_type": "stream",
     "text": [
      "time: 16 ms (started: 2022-03-15 23:43:30 -05:00)\n"
     ]
    }
   ],
   "source": [
    "stroke_df.count()"
   ]
  },
  {
   "cell_type": "markdown",
   "metadata": {},
   "source": [
    "### isnull Method for 'bmi' column"
   ]
  },
  {
   "cell_type": "code",
   "execution_count": 12,
   "metadata": {},
   "outputs": [
    {
     "data": {
      "text/plain": [
       "201"
      ]
     },
     "execution_count": 12,
     "metadata": {},
     "output_type": "execute_result"
    },
    {
     "name": "stdout",
     "output_type": "stream",
     "text": [
      "time: 0 ns (started: 2022-03-15 23:43:30 -05:00)\n"
     ]
    }
   ],
   "source": [
    "stroke_isnull_df = stroke_df['bmi'].isnull().sum()\n",
    "stroke_isnull_df"
   ]
  },
  {
   "cell_type": "markdown",
   "metadata": {},
   "source": [
    "## If I dropped all these rows, what percentage of the data would be lost?"
   ]
  },
  {
   "cell_type": "code",
   "execution_count": 13,
   "metadata": {},
   "outputs": [
    {
     "name": "stdout",
     "output_type": "stream",
     "text": [
      "------------------------------------------------------\n",
      "The # of missing values in the \"bmi\" column is 201\n",
      "--------------------------AND-------------------------\n",
      "3.93% of the column is missing values\n",
      "time: 0 ns (started: 2022-03-15 23:43:30 -05:00)\n"
     ]
    }
   ],
   "source": [
    "# take the average of the DataFrame isna(){bool}\n",
    "# Round to 4 numbers\n",
    "# Multiply by 100 to get %\n",
    "column_missing_percent = stroke_df['bmi'].isna().mean().round(4) * 100\n",
    "column_missing_percent\n",
    "print('------------------------------------------------------')\n",
    "print(f'The # of missing values in the \"bmi\" column is {stroke_isnull_df}')\n",
    "print('--------------------------AND-------------------------')\n",
    "print(f'{column_missing_percent}% of the column is missing values')"
   ]
  },
  {
   "cell_type": "markdown",
   "metadata": {},
   "source": [
    "# Is this an acceptable percentage of ROWS to delete?"
   ]
  },
  {
   "cell_type": "code",
   "execution_count": 14,
   "metadata": {},
   "outputs": [
    {
     "name": "stdout",
     "output_type": "stream",
     "text": [
      "time: 0 ns (started: 2022-03-15 23:43:30 -05:00)\n"
     ]
    }
   ],
   "source": [
    "#! ASK THE GROUP!!! or USE YOUR STATS SKILLS!!!"
   ]
  },
  {
   "cell_type": "markdown",
   "metadata": {},
   "source": [
    "# We decided to Have two datasets... One with BMI and One without... BMI values are removed right before export"
   ]
  },
  {
   "cell_type": "markdown",
   "metadata": {},
   "source": [
    "## Delete Missing Rows?"
   ]
  },
  {
   "cell_type": "code",
   "execution_count": 15,
   "metadata": {},
   "outputs": [
    {
     "name": "stdout",
     "output_type": "stream",
     "text": [
      "time: 0 ns (started: 2022-03-15 23:43:31 -05:00)\n"
     ]
    }
   ],
   "source": [
    "#Delete rows where Gender is \"Other\"\n",
    "\n",
    "stroke_df = stroke_df[stroke_df.gender != \"Other\"]"
   ]
  },
  {
   "cell_type": "markdown",
   "metadata": {},
   "source": [
    "## Do we want to delete any Columns? (I don't think so)"
   ]
  },
  {
   "cell_type": "code",
   "execution_count": 16,
   "metadata": {},
   "outputs": [
    {
     "name": "stdout",
     "output_type": "stream",
     "text": [
      "time: 0 ns (started: 2022-03-15 23:43:31 -05:00)\n"
     ]
    }
   ],
   "source": [
    "#! I think we can delete the ID column if we reset the index to be the new ID column and start it at \"1\""
   ]
  },
  {
   "cell_type": "code",
   "execution_count": 17,
   "metadata": {},
   "outputs": [
    {
     "name": "stdout",
     "output_type": "stream",
     "text": [
      "time: 0 ns (started: 2022-03-15 23:43:31 -05:00)\n"
     ]
    }
   ],
   "source": [
    "# stroke_df"
   ]
  },
  {
   "cell_type": "markdown",
   "metadata": {},
   "source": [
    "## Rename columns before resetting index to new \"ID\" column"
   ]
  },
  {
   "cell_type": "code",
   "execution_count": 18,
   "metadata": {},
   "outputs": [
    {
     "name": "stdout",
     "output_type": "stream",
     "text": [
      "time: 0 ns (started: 2022-03-15 23:43:31 -05:00)\n"
     ]
    }
   ],
   "source": [
    "# Rename the index to be the \"ID\" column before resetting the index\n",
    "stroke_df.columns = ['ID',\n",
    "                    'Gender',\n",
    "                    'Age',\n",
    "                    'Hypertension',\n",
    "                    'Heart_Disease',\n",
    "                    'Ever_Married',\n",
    "                    'Work_Type',\n",
    "                    'Residence_Type',\n",
    "                    'Avg_Glucose_Lvl',\n",
    "                    'BMI',\n",
    "                    'Smoker',\n",
    "                    'Stroke',\n",
    "                    ]"
   ]
  },
  {
   "cell_type": "markdown",
   "metadata": {},
   "source": [
    "## Set the index to start at '1' and set as the new 'ID' column"
   ]
  },
  {
   "cell_type": "code",
   "execution_count": 19,
   "metadata": {},
   "outputs": [
    {
     "name": "stdout",
     "output_type": "stream",
     "text": [
      "time: 0 ns (started: 2022-03-15 23:43:31 -05:00)\n"
     ]
    }
   ],
   "source": [
    "stroke_df['ID'] = stroke_df.index + 1"
   ]
  },
  {
   "cell_type": "code",
   "execution_count": 20,
   "metadata": {},
   "outputs": [
    {
     "name": "stdout",
     "output_type": "stream",
     "text": [
      "time: 0 ns (started: 2022-03-15 23:43:31 -05:00)\n"
     ]
    }
   ],
   "source": [
    "# Reset Index\n",
    "stroke_df = stroke_df.set_index('ID')"
   ]
  },
  {
   "cell_type": "code",
   "execution_count": 21,
   "metadata": {},
   "outputs": [
    {
     "data": {
      "text/html": [
       "<div>\n",
       "<style scoped>\n",
       "    .dataframe tbody tr th:only-of-type {\n",
       "        vertical-align: middle;\n",
       "    }\n",
       "\n",
       "    .dataframe tbody tr th {\n",
       "        vertical-align: top;\n",
       "    }\n",
       "\n",
       "    .dataframe thead th {\n",
       "        text-align: right;\n",
       "    }\n",
       "</style>\n",
       "<table border=\"1\" class=\"dataframe\">\n",
       "  <thead>\n",
       "    <tr style=\"text-align: right;\">\n",
       "      <th></th>\n",
       "      <th>Gender</th>\n",
       "      <th>Age</th>\n",
       "      <th>Hypertension</th>\n",
       "      <th>Heart_Disease</th>\n",
       "      <th>Ever_Married</th>\n",
       "      <th>Work_Type</th>\n",
       "      <th>Residence_Type</th>\n",
       "      <th>Avg_Glucose_Lvl</th>\n",
       "      <th>BMI</th>\n",
       "      <th>Smoker</th>\n",
       "      <th>Stroke</th>\n",
       "      <th>ID#</th>\n",
       "    </tr>\n",
       "    <tr>\n",
       "      <th>ID</th>\n",
       "      <th></th>\n",
       "      <th></th>\n",
       "      <th></th>\n",
       "      <th></th>\n",
       "      <th></th>\n",
       "      <th></th>\n",
       "      <th></th>\n",
       "      <th></th>\n",
       "      <th></th>\n",
       "      <th></th>\n",
       "      <th></th>\n",
       "      <th></th>\n",
       "    </tr>\n",
       "  </thead>\n",
       "  <tbody>\n",
       "    <tr>\n",
       "      <th>1</th>\n",
       "      <td>Male</td>\n",
       "      <td>67</td>\n",
       "      <td>0</td>\n",
       "      <td>1</td>\n",
       "      <td>Yes</td>\n",
       "      <td>Private</td>\n",
       "      <td>Urban</td>\n",
       "      <td>228.69</td>\n",
       "      <td>36.6</td>\n",
       "      <td>formerly smoked</td>\n",
       "      <td>1</td>\n",
       "      <td>1</td>\n",
       "    </tr>\n",
       "    <tr>\n",
       "      <th>2</th>\n",
       "      <td>Female</td>\n",
       "      <td>61</td>\n",
       "      <td>0</td>\n",
       "      <td>0</td>\n",
       "      <td>Yes</td>\n",
       "      <td>Self-employed</td>\n",
       "      <td>Rural</td>\n",
       "      <td>202.21</td>\n",
       "      <td>NaN</td>\n",
       "      <td>never smoked</td>\n",
       "      <td>1</td>\n",
       "      <td>2</td>\n",
       "    </tr>\n",
       "    <tr>\n",
       "      <th>3</th>\n",
       "      <td>Male</td>\n",
       "      <td>80</td>\n",
       "      <td>0</td>\n",
       "      <td>1</td>\n",
       "      <td>Yes</td>\n",
       "      <td>Private</td>\n",
       "      <td>Rural</td>\n",
       "      <td>105.92</td>\n",
       "      <td>32.5</td>\n",
       "      <td>never smoked</td>\n",
       "      <td>1</td>\n",
       "      <td>3</td>\n",
       "    </tr>\n",
       "    <tr>\n",
       "      <th>4</th>\n",
       "      <td>Female</td>\n",
       "      <td>49</td>\n",
       "      <td>0</td>\n",
       "      <td>0</td>\n",
       "      <td>Yes</td>\n",
       "      <td>Private</td>\n",
       "      <td>Urban</td>\n",
       "      <td>171.23</td>\n",
       "      <td>34.4</td>\n",
       "      <td>smokes</td>\n",
       "      <td>1</td>\n",
       "      <td>4</td>\n",
       "    </tr>\n",
       "    <tr>\n",
       "      <th>5</th>\n",
       "      <td>Female</td>\n",
       "      <td>79</td>\n",
       "      <td>1</td>\n",
       "      <td>0</td>\n",
       "      <td>Yes</td>\n",
       "      <td>Self-employed</td>\n",
       "      <td>Rural</td>\n",
       "      <td>174.12</td>\n",
       "      <td>24.0</td>\n",
       "      <td>never smoked</td>\n",
       "      <td>1</td>\n",
       "      <td>5</td>\n",
       "    </tr>\n",
       "    <tr>\n",
       "      <th>...</th>\n",
       "      <td>...</td>\n",
       "      <td>...</td>\n",
       "      <td>...</td>\n",
       "      <td>...</td>\n",
       "      <td>...</td>\n",
       "      <td>...</td>\n",
       "      <td>...</td>\n",
       "      <td>...</td>\n",
       "      <td>...</td>\n",
       "      <td>...</td>\n",
       "      <td>...</td>\n",
       "      <td>...</td>\n",
       "    </tr>\n",
       "    <tr>\n",
       "      <th>5106</th>\n",
       "      <td>Female</td>\n",
       "      <td>80</td>\n",
       "      <td>1</td>\n",
       "      <td>0</td>\n",
       "      <td>Yes</td>\n",
       "      <td>Private</td>\n",
       "      <td>Urban</td>\n",
       "      <td>83.75</td>\n",
       "      <td>NaN</td>\n",
       "      <td>never smoked</td>\n",
       "      <td>0</td>\n",
       "      <td>5106</td>\n",
       "    </tr>\n",
       "    <tr>\n",
       "      <th>5107</th>\n",
       "      <td>Female</td>\n",
       "      <td>81</td>\n",
       "      <td>0</td>\n",
       "      <td>0</td>\n",
       "      <td>Yes</td>\n",
       "      <td>Self-employed</td>\n",
       "      <td>Urban</td>\n",
       "      <td>125.20</td>\n",
       "      <td>40.0</td>\n",
       "      <td>never smoked</td>\n",
       "      <td>0</td>\n",
       "      <td>5107</td>\n",
       "    </tr>\n",
       "    <tr>\n",
       "      <th>5108</th>\n",
       "      <td>Female</td>\n",
       "      <td>35</td>\n",
       "      <td>0</td>\n",
       "      <td>0</td>\n",
       "      <td>Yes</td>\n",
       "      <td>Self-employed</td>\n",
       "      <td>Rural</td>\n",
       "      <td>82.99</td>\n",
       "      <td>30.6</td>\n",
       "      <td>never smoked</td>\n",
       "      <td>0</td>\n",
       "      <td>5108</td>\n",
       "    </tr>\n",
       "    <tr>\n",
       "      <th>5109</th>\n",
       "      <td>Male</td>\n",
       "      <td>51</td>\n",
       "      <td>0</td>\n",
       "      <td>0</td>\n",
       "      <td>Yes</td>\n",
       "      <td>Private</td>\n",
       "      <td>Rural</td>\n",
       "      <td>166.29</td>\n",
       "      <td>25.6</td>\n",
       "      <td>formerly smoked</td>\n",
       "      <td>0</td>\n",
       "      <td>5109</td>\n",
       "    </tr>\n",
       "    <tr>\n",
       "      <th>5110</th>\n",
       "      <td>Female</td>\n",
       "      <td>44</td>\n",
       "      <td>0</td>\n",
       "      <td>0</td>\n",
       "      <td>Yes</td>\n",
       "      <td>Govt_job</td>\n",
       "      <td>Urban</td>\n",
       "      <td>85.28</td>\n",
       "      <td>26.2</td>\n",
       "      <td>Unknown</td>\n",
       "      <td>0</td>\n",
       "      <td>5110</td>\n",
       "    </tr>\n",
       "  </tbody>\n",
       "</table>\n",
       "<p>5109 rows × 12 columns</p>\n",
       "</div>"
      ],
      "text/plain": [
       "      Gender  Age  Hypertension  Heart_Disease Ever_Married      Work_Type  \\\n",
       "ID                                                                           \n",
       "1       Male   67             0              1          Yes        Private   \n",
       "2     Female   61             0              0          Yes  Self-employed   \n",
       "3       Male   80             0              1          Yes        Private   \n",
       "4     Female   49             0              0          Yes        Private   \n",
       "5     Female   79             1              0          Yes  Self-employed   \n",
       "...      ...  ...           ...            ...          ...            ...   \n",
       "5106  Female   80             1              0          Yes        Private   \n",
       "5107  Female   81             0              0          Yes  Self-employed   \n",
       "5108  Female   35             0              0          Yes  Self-employed   \n",
       "5109    Male   51             0              0          Yes        Private   \n",
       "5110  Female   44             0              0          Yes       Govt_job   \n",
       "\n",
       "     Residence_Type  Avg_Glucose_Lvl   BMI           Smoker  Stroke   ID#  \n",
       "ID                                                                         \n",
       "1             Urban           228.69  36.6  formerly smoked       1     1  \n",
       "2             Rural           202.21   NaN     never smoked       1     2  \n",
       "3             Rural           105.92  32.5     never smoked       1     3  \n",
       "4             Urban           171.23  34.4           smokes       1     4  \n",
       "5             Rural           174.12  24.0     never smoked       1     5  \n",
       "...             ...              ...   ...              ...     ...   ...  \n",
       "5106          Urban            83.75   NaN     never smoked       0  5106  \n",
       "5107          Urban           125.20  40.0     never smoked       0  5107  \n",
       "5108          Rural            82.99  30.6     never smoked       0  5108  \n",
       "5109          Rural           166.29  25.6  formerly smoked       0  5109  \n",
       "5110          Urban            85.28  26.2          Unknown       0  5110  \n",
       "\n",
       "[5109 rows x 12 columns]"
      ]
     },
     "execution_count": 21,
     "metadata": {},
     "output_type": "execute_result"
    },
    {
     "name": "stdout",
     "output_type": "stream",
     "text": [
      "time: 47 ms (started: 2022-03-15 23:43:32 -05:00)\n"
     ]
    }
   ],
   "source": [
    "stroke_df['ID#'] = stroke_df.index \n",
    "stroke_df"
   ]
  },
  {
   "cell_type": "markdown",
   "metadata": {},
   "source": [
    "# Reorder Columns???"
   ]
  },
  {
   "cell_type": "code",
   "execution_count": 22,
   "metadata": {},
   "outputs": [
    {
     "data": {
      "text/plain": [
       "Index(['Gender', 'Age', 'Hypertension', 'Heart_Disease', 'Ever_Married',\n",
       "       'Work_Type', 'Residence_Type', 'Avg_Glucose_Lvl', 'BMI', 'Smoker',\n",
       "       'Stroke', 'ID#'],\n",
       "      dtype='object')"
      ]
     },
     "execution_count": 22,
     "metadata": {},
     "output_type": "execute_result"
    },
    {
     "name": "stdout",
     "output_type": "stream",
     "text": [
      "time: 0 ns (started: 2022-03-15 23:43:32 -05:00)\n"
     ]
    }
   ],
   "source": [
    "# List column names\n",
    "stroke_df.columns"
   ]
  },
  {
   "cell_type": "code",
   "execution_count": 23,
   "metadata": {},
   "outputs": [
    {
     "name": "stdout",
     "output_type": "stream",
     "text": [
      "time: 16 ms (started: 2022-03-15 23:43:32 -05:00)\n"
     ]
    }
   ],
   "source": [
    "new_column_order = ['ID#',\n",
    "                    'Gender',\n",
    "                    'Age',\n",
    "                    'Hypertension',\n",
    "                    'Heart_Disease',\n",
    "                    'Ever_Married',\n",
    "                    'Work_Type',\n",
    "                    'Residence_Type',\n",
    "                    'Avg_Glucose_Lvl',\n",
    "                    'BMI',\n",
    "                    'Smoker',\n",
    "                    'Stroke',\n",
    "                    ]\n",
    "\n",
    "stroke_df = stroke_df[new_column_order]"
   ]
  },
  {
   "cell_type": "markdown",
   "metadata": {},
   "source": [
    "## Change responses for \"Work Type\" & \"Smoker\" "
   ]
  },
  {
   "cell_type": "markdown",
   "metadata": {},
   "source": [
    "### Smoker"
   ]
  },
  {
   "cell_type": "code",
   "execution_count": 24,
   "metadata": {},
   "outputs": [
    {
     "data": {
      "text/plain": [
       "array(['formerly smoked', 'never smoked', 'smokes', 'Unknown'],\n",
       "      dtype=object)"
      ]
     },
     "execution_count": 24,
     "metadata": {},
     "output_type": "execute_result"
    },
    {
     "name": "stdout",
     "output_type": "stream",
     "text": [
      "time: 0 ns (started: 2022-03-15 23:43:32 -05:00)\n"
     ]
    }
   ],
   "source": [
    "stroke_df['Smoker'].unique()"
   ]
  },
  {
   "cell_type": "code",
   "execution_count": 25,
   "metadata": {},
   "outputs": [
    {
     "name": "stdout",
     "output_type": "stream",
     "text": [
      "time: 0 ns (started: 2022-03-15 23:43:32 -05:00)\n"
     ]
    }
   ],
   "source": [
    "stroke_df= stroke_df.replace({\"Smoker\":'formerly smoked'}, \"Former\")\n",
    "stroke_df= stroke_df.replace({\"Smoker\": 'never smoked'}, \"Never\")\n",
    "stroke_df= stroke_df.replace({\"Smoker\":'smokes'}, \"Current\")          "
   ]
  },
  {
   "cell_type": "markdown",
   "metadata": {},
   "source": [
    "### Work Type"
   ]
  },
  {
   "cell_type": "code",
   "execution_count": 26,
   "metadata": {},
   "outputs": [
    {
     "name": "stdout",
     "output_type": "stream",
     "text": [
      "time: 0 ns (started: 2022-03-15 23:43:32 -05:00)\n"
     ]
    }
   ],
   "source": [
    "# stroke_df['Work Type'].unique()"
   ]
  },
  {
   "cell_type": "code",
   "execution_count": 27,
   "metadata": {},
   "outputs": [
    {
     "name": "stdout",
     "output_type": "stream",
     "text": [
      "time: 0 ns (started: 2022-03-15 23:43:33 -05:00)\n"
     ]
    }
   ],
   "source": [
    "stroke_df= stroke_df.replace({\"Work Type\":'Govt_job'}, \"Government\")\n",
    "stroke_df= stroke_df.replace({\"Work Type\": 'children'}, \"Child\")\n",
    "stroke_df= stroke_df.replace({\"Work Type\":'Self-employed'}, \"Self-Employed\")\n",
    "stroke_df= stroke_df.replace({\"Work Type\":'Never_worked'}, \"Never Worked\")"
   ]
  },
  {
   "cell_type": "markdown",
   "metadata": {},
   "source": [
    "# Drop the BMI Rows..."
   ]
  },
  {
   "cell_type": "code",
   "execution_count": 28,
   "metadata": {},
   "outputs": [
    {
     "name": "stdout",
     "output_type": "stream",
     "text": [
      "time: 125 ms (started: 2022-03-15 23:43:33 -05:00)\n"
     ]
    }
   ],
   "source": [
    "stroke_no_bmi = stroke_df.dropna(subset=['BMI'])\n",
    "\n",
    "# Export Parquet File\n",
    "stroke_no_bmi.to_parquet('..\\..\\Resources\\Cleaned_Dataset\\Parquet\\clean_stroke_bmi_removed.parquet.gzip', compression='gzip', index=False)\n",
    "\n",
    "# Export CSV File\n",
    "stroke_no_bmi.to_csv('..\\..\\Resources\\Cleaned_Dataset\\clean_stroke_bmi_removed.csv', index=False)"
   ]
  },
  {
   "cell_type": "markdown",
   "metadata": {},
   "source": [
    "# Display Cleaned DataFrame"
   ]
  },
  {
   "cell_type": "code",
   "execution_count": 29,
   "metadata": {},
   "outputs": [
    {
     "data": {
      "text/html": [
       "<div>\n",
       "<style scoped>\n",
       "    .dataframe tbody tr th:only-of-type {\n",
       "        vertical-align: middle;\n",
       "    }\n",
       "\n",
       "    .dataframe tbody tr th {\n",
       "        vertical-align: top;\n",
       "    }\n",
       "\n",
       "    .dataframe thead th {\n",
       "        text-align: right;\n",
       "    }\n",
       "</style>\n",
       "<table border=\"1\" class=\"dataframe\">\n",
       "  <thead>\n",
       "    <tr style=\"text-align: right;\">\n",
       "      <th></th>\n",
       "      <th>ID#</th>\n",
       "      <th>Gender</th>\n",
       "      <th>Age</th>\n",
       "      <th>Hypertension</th>\n",
       "      <th>Heart_Disease</th>\n",
       "      <th>Ever_Married</th>\n",
       "      <th>Work_Type</th>\n",
       "      <th>Residence_Type</th>\n",
       "      <th>Avg_Glucose_Lvl</th>\n",
       "      <th>BMI</th>\n",
       "      <th>Smoker</th>\n",
       "      <th>Stroke</th>\n",
       "    </tr>\n",
       "    <tr>\n",
       "      <th>ID</th>\n",
       "      <th></th>\n",
       "      <th></th>\n",
       "      <th></th>\n",
       "      <th></th>\n",
       "      <th></th>\n",
       "      <th></th>\n",
       "      <th></th>\n",
       "      <th></th>\n",
       "      <th></th>\n",
       "      <th></th>\n",
       "      <th></th>\n",
       "      <th></th>\n",
       "    </tr>\n",
       "  </thead>\n",
       "  <tbody>\n",
       "    <tr>\n",
       "      <th>1</th>\n",
       "      <td>1</td>\n",
       "      <td>Male</td>\n",
       "      <td>67</td>\n",
       "      <td>0</td>\n",
       "      <td>1</td>\n",
       "      <td>Yes</td>\n",
       "      <td>Private</td>\n",
       "      <td>Urban</td>\n",
       "      <td>228.69</td>\n",
       "      <td>36.6</td>\n",
       "      <td>Former</td>\n",
       "      <td>1</td>\n",
       "    </tr>\n",
       "    <tr>\n",
       "      <th>2</th>\n",
       "      <td>2</td>\n",
       "      <td>Female</td>\n",
       "      <td>61</td>\n",
       "      <td>0</td>\n",
       "      <td>0</td>\n",
       "      <td>Yes</td>\n",
       "      <td>Self-employed</td>\n",
       "      <td>Rural</td>\n",
       "      <td>202.21</td>\n",
       "      <td>NaN</td>\n",
       "      <td>Never</td>\n",
       "      <td>1</td>\n",
       "    </tr>\n",
       "    <tr>\n",
       "      <th>3</th>\n",
       "      <td>3</td>\n",
       "      <td>Male</td>\n",
       "      <td>80</td>\n",
       "      <td>0</td>\n",
       "      <td>1</td>\n",
       "      <td>Yes</td>\n",
       "      <td>Private</td>\n",
       "      <td>Rural</td>\n",
       "      <td>105.92</td>\n",
       "      <td>32.5</td>\n",
       "      <td>Never</td>\n",
       "      <td>1</td>\n",
       "    </tr>\n",
       "    <tr>\n",
       "      <th>4</th>\n",
       "      <td>4</td>\n",
       "      <td>Female</td>\n",
       "      <td>49</td>\n",
       "      <td>0</td>\n",
       "      <td>0</td>\n",
       "      <td>Yes</td>\n",
       "      <td>Private</td>\n",
       "      <td>Urban</td>\n",
       "      <td>171.23</td>\n",
       "      <td>34.4</td>\n",
       "      <td>Current</td>\n",
       "      <td>1</td>\n",
       "    </tr>\n",
       "    <tr>\n",
       "      <th>5</th>\n",
       "      <td>5</td>\n",
       "      <td>Female</td>\n",
       "      <td>79</td>\n",
       "      <td>1</td>\n",
       "      <td>0</td>\n",
       "      <td>Yes</td>\n",
       "      <td>Self-employed</td>\n",
       "      <td>Rural</td>\n",
       "      <td>174.12</td>\n",
       "      <td>24.0</td>\n",
       "      <td>Never</td>\n",
       "      <td>1</td>\n",
       "    </tr>\n",
       "    <tr>\n",
       "      <th>...</th>\n",
       "      <td>...</td>\n",
       "      <td>...</td>\n",
       "      <td>...</td>\n",
       "      <td>...</td>\n",
       "      <td>...</td>\n",
       "      <td>...</td>\n",
       "      <td>...</td>\n",
       "      <td>...</td>\n",
       "      <td>...</td>\n",
       "      <td>...</td>\n",
       "      <td>...</td>\n",
       "      <td>...</td>\n",
       "    </tr>\n",
       "    <tr>\n",
       "      <th>5106</th>\n",
       "      <td>5106</td>\n",
       "      <td>Female</td>\n",
       "      <td>80</td>\n",
       "      <td>1</td>\n",
       "      <td>0</td>\n",
       "      <td>Yes</td>\n",
       "      <td>Private</td>\n",
       "      <td>Urban</td>\n",
       "      <td>83.75</td>\n",
       "      <td>NaN</td>\n",
       "      <td>Never</td>\n",
       "      <td>0</td>\n",
       "    </tr>\n",
       "    <tr>\n",
       "      <th>5107</th>\n",
       "      <td>5107</td>\n",
       "      <td>Female</td>\n",
       "      <td>81</td>\n",
       "      <td>0</td>\n",
       "      <td>0</td>\n",
       "      <td>Yes</td>\n",
       "      <td>Self-employed</td>\n",
       "      <td>Urban</td>\n",
       "      <td>125.20</td>\n",
       "      <td>40.0</td>\n",
       "      <td>Never</td>\n",
       "      <td>0</td>\n",
       "    </tr>\n",
       "    <tr>\n",
       "      <th>5108</th>\n",
       "      <td>5108</td>\n",
       "      <td>Female</td>\n",
       "      <td>35</td>\n",
       "      <td>0</td>\n",
       "      <td>0</td>\n",
       "      <td>Yes</td>\n",
       "      <td>Self-employed</td>\n",
       "      <td>Rural</td>\n",
       "      <td>82.99</td>\n",
       "      <td>30.6</td>\n",
       "      <td>Never</td>\n",
       "      <td>0</td>\n",
       "    </tr>\n",
       "    <tr>\n",
       "      <th>5109</th>\n",
       "      <td>5109</td>\n",
       "      <td>Male</td>\n",
       "      <td>51</td>\n",
       "      <td>0</td>\n",
       "      <td>0</td>\n",
       "      <td>Yes</td>\n",
       "      <td>Private</td>\n",
       "      <td>Rural</td>\n",
       "      <td>166.29</td>\n",
       "      <td>25.6</td>\n",
       "      <td>Former</td>\n",
       "      <td>0</td>\n",
       "    </tr>\n",
       "    <tr>\n",
       "      <th>5110</th>\n",
       "      <td>5110</td>\n",
       "      <td>Female</td>\n",
       "      <td>44</td>\n",
       "      <td>0</td>\n",
       "      <td>0</td>\n",
       "      <td>Yes</td>\n",
       "      <td>Govt_job</td>\n",
       "      <td>Urban</td>\n",
       "      <td>85.28</td>\n",
       "      <td>26.2</td>\n",
       "      <td>Unknown</td>\n",
       "      <td>0</td>\n",
       "    </tr>\n",
       "  </tbody>\n",
       "</table>\n",
       "<p>5109 rows × 12 columns</p>\n",
       "</div>"
      ],
      "text/plain": [
       "       ID#  Gender  Age  Hypertension  Heart_Disease Ever_Married  \\\n",
       "ID                                                                  \n",
       "1        1    Male   67             0              1          Yes   \n",
       "2        2  Female   61             0              0          Yes   \n",
       "3        3    Male   80             0              1          Yes   \n",
       "4        4  Female   49             0              0          Yes   \n",
       "5        5  Female   79             1              0          Yes   \n",
       "...    ...     ...  ...           ...            ...          ...   \n",
       "5106  5106  Female   80             1              0          Yes   \n",
       "5107  5107  Female   81             0              0          Yes   \n",
       "5108  5108  Female   35             0              0          Yes   \n",
       "5109  5109    Male   51             0              0          Yes   \n",
       "5110  5110  Female   44             0              0          Yes   \n",
       "\n",
       "          Work_Type Residence_Type  Avg_Glucose_Lvl   BMI   Smoker  Stroke  \n",
       "ID                                                                          \n",
       "1           Private          Urban           228.69  36.6   Former       1  \n",
       "2     Self-employed          Rural           202.21   NaN    Never       1  \n",
       "3           Private          Rural           105.92  32.5    Never       1  \n",
       "4           Private          Urban           171.23  34.4  Current       1  \n",
       "5     Self-employed          Rural           174.12  24.0    Never       1  \n",
       "...             ...            ...              ...   ...      ...     ...  \n",
       "5106        Private          Urban            83.75   NaN    Never       0  \n",
       "5107  Self-employed          Urban           125.20  40.0    Never       0  \n",
       "5108  Self-employed          Rural            82.99  30.6    Never       0  \n",
       "5109        Private          Rural           166.29  25.6   Former       0  \n",
       "5110       Govt_job          Urban            85.28  26.2  Unknown       0  \n",
       "\n",
       "[5109 rows x 12 columns]"
      ]
     },
     "execution_count": 29,
     "metadata": {},
     "output_type": "execute_result"
    },
    {
     "name": "stdout",
     "output_type": "stream",
     "text": [
      "time: 47 ms (started: 2022-03-15 23:43:33 -05:00)\n"
     ]
    }
   ],
   "source": [
    "stroke_df"
   ]
  },
  {
   "cell_type": "markdown",
   "metadata": {},
   "source": [
    "# Huzzah!"
   ]
  },
  {
   "cell_type": "markdown",
   "metadata": {},
   "source": [
    "# Export Parquet File to Resources Folder"
   ]
  },
  {
   "cell_type": "code",
   "execution_count": 30,
   "metadata": {},
   "outputs": [
    {
     "name": "stdout",
     "output_type": "stream",
     "text": [
      "9.42 seconds\n",
      "time: 296 ms (started: 2022-03-15 23:43:33 -05:00)\n"
     ]
    }
   ],
   "source": [
    "# Export Parquet File\n",
    "stroke_df.to_parquet('..\\..\\Resources\\Cleaned_Dataset\\Parquet\\clean_stroke.parquet.gzip', compression='gzip', index=False)\n",
    "\n",
    "# Export CSV File\n",
    "stroke_df.to_csv('..\\..\\Resources\\Cleaned_Dataset\\clean_stroke.csv', index=False)\n",
    "\n",
    "\n",
    "#* ENDS TIMER\n",
    "end = time.time()\n",
    "print(f'{end - start:.2f} seconds')"
   ]
  },
  {
   "cell_type": "markdown",
   "metadata": {},
   "source": [
    "## Create Bins based on \"Age\""
   ]
  },
  {
   "cell_type": "code",
   "execution_count": 31,
   "metadata": {},
   "outputs": [
    {
     "name": "stdout",
     "output_type": "stream",
     "text": [
      "time: 15 ms (started: 2022-03-15 23:43:35 -05:00)\n"
     ]
    }
   ],
   "source": [
    "# 0 - 20\n",
    "gen_z_stroke = stroke_df[(stroke_df['Age'] <= 20)]\n",
    "# 20 - 40\n",
    "gen_y_stroke = stroke_df[(stroke_df['Age'] > 20) & (stroke_df['Age'] <= 40)]\n",
    "# 40 - 60\n",
    "gen_x_stroke = stroke_df[(stroke_df['Age'] > 40) & (stroke_df['Age'] <= 60)]\n",
    "# 60 - 80\n",
    "boomer_stroke = stroke_df[(stroke_df['Age'] > 60) & (stroke_df['Age'] <= 80)]\n",
    "# 80 - 100\n",
    "greatest_gen_stroke = stroke_df[(stroke_df['Age'] > 80) & (stroke_df['Age'] <= 100)]\n"
   ]
  },
  {
   "cell_type": "code",
   "execution_count": 32,
   "metadata": {},
   "outputs": [
    {
     "name": "stdout",
     "output_type": "stream",
     "text": [
      "time: 0 ns (started: 2022-03-15 23:43:35 -05:00)\n"
     ]
    }
   ],
   "source": [
    "# gen_z_stroke\n",
    "# gen_y_stroke\n",
    "# gen_x_stroke\n",
    "# boomer_stroke\n",
    "# greatest_gen_stroke"
   ]
  },
  {
   "cell_type": "code",
   "execution_count": 33,
   "metadata": {},
   "outputs": [
    {
     "name": "stdout",
     "output_type": "stream",
     "text": [
      "time: 718 ms (started: 2022-03-15 23:43:36 -05:00)\n"
     ]
    }
   ],
   "source": [
    "# Export Parquet File\n",
    "gen_z_stroke.to_parquet('..\\..\\Resources\\Age_Datasets\\Parquet\\gen_Z_stroke.parquet.gzip', compression='gzip', index=False)\n",
    "gen_y_stroke.to_parquet('..\\..\\Resources\\Age_Datasets\\Parquet\\gen_Y_stroke.parquet.gzip', compression='gzip', index=False)\n",
    "gen_x_stroke.to_parquet('..\\..\\Resources\\Age_Datasets\\Parquet\\gen_X_stroke.parquet.gzip', compression='gzip', index=False)\n",
    "boomer_stroke.to_parquet('..\\..\\Resources\\Age_Datasets\\Parquet\\Boomer_stroke.parquet.gzip', compression='gzip', index=False)\n",
    "greatest_gen_stroke.to_parquet('..\\..\\Resources\\Age_Datasets\\Parquet\\greatest_gen_stroke.parquet.gzip', compression='gzip', index=False)\n",
    "\n",
    "# Export CSV File\n",
    "gen_z_stroke.to_csv('..\\..\\Resources\\Age_Datasets\\gen_Z_stroke.csv', index=False)\n",
    "gen_y_stroke.to_csv('..\\..\\Resources\\Age_Datasets\\gen_Y_stroke.csv', index=False)\n",
    "gen_x_stroke.to_csv('..\\..\\Resources\\Age_Datasets\\gen_X_stroke.csv', index=False)\n",
    "boomer_stroke.to_csv('..\\..\\Resources\\Age_Datasets\\Boomer_stroke.csv', index=False)\n",
    "greatest_gen_stroke.to_csv('..\\..\\Resources\\Age_Datasets\\greatest_gen_stroke.csv', index=False)"
   ]
  },
  {
   "cell_type": "markdown",
   "metadata": {},
   "source": [
    "## Create Bins based on \"BMI\""
   ]
  },
  {
   "cell_type": "code",
   "execution_count": 34,
   "metadata": {},
   "outputs": [
    {
     "name": "stdout",
     "output_type": "stream",
     "text": [
      "time: 15 ms (started: 2022-03-15 23:43:37 -05:00)\n"
     ]
    }
   ],
   "source": [
    "# 0 - 18.5\n",
    "underweight = stroke_df[(stroke_df['BMI'] < 18.5)]\n",
    "# 18.5 - 25\n",
    "healthy_weight = stroke_df[(stroke_df['BMI'] >= 18.5) & (stroke_df['BMI'] < 25)]\n",
    "# 25 - 30\n",
    "overweight = stroke_df[(stroke_df['BMI'] >= 25) & (stroke_df['BMI'] < 30)]\n",
    "# 30 - 35\n",
    "obese_low_risk = stroke_df[(stroke_df['BMI'] >= 30) & (stroke_df['BMI'] < 35)]\n",
    "# 35 - 40\n",
    "obese_medium_risk = stroke_df[(stroke_df['BMI'] >= 35) & (stroke_df['BMI'] < 40)]\n",
    "# 40 +\n",
    "obese_high_risk = stroke_df[(stroke_df['BMI'] >= 40) & (stroke_df['BMI'] < 100)]"
   ]
  },
  {
   "cell_type": "code",
   "execution_count": 35,
   "metadata": {},
   "outputs": [
    {
     "name": "stdout",
     "output_type": "stream",
     "text": [
      "time: 781 ms (started: 2022-03-15 23:43:37 -05:00)\n"
     ]
    }
   ],
   "source": [
    "# Export Parquet File\n",
    "underweight.to_parquet(r'..\\..\\Resources\\BMI_Datasets\\Parquet\\underweight.parquet.gzip', compression='gzip', index=False)\n",
    "healthy_weight.to_parquet(r'..\\..\\Resources\\BMI_Datasets\\Parquet\\healthy_weight.parquet.gzip', compression='gzip', index=False)\n",
    "overweight.to_parquet(r'..\\..\\Resources\\BMI_Datasets\\Parquet\\overweight.parquet.gzip', compression='gzip', index=False)\n",
    "obese_low_risk.to_parquet(r'..\\..\\Resources\\BMI_Datasets\\Parquet\\obese_low_risk.parquet.gzip', compression='gzip', index=False)\n",
    "obese_medium_risk.to_parquet(r'..\\..\\Resources\\BMI_Datasets\\Parquet\\obese_medium_risk.parquet.gzip', compression='gzip', index=False)\n",
    "obese_high_risk.to_parquet(r'..\\..\\Resources\\BMI_Datasets\\Parquet\\obese_high_risk.parquet.gzip', compression='gzip', index=False)\n",
    "\n",
    "# Export CSV File\n",
    "underweight.to_csv(r'..\\..\\Resources\\BMI_Datasets\\underweight.csv', index=False)\n",
    "healthy_weight.to_csv(r'..\\..\\Resources\\BMI_Datasets\\healthy_weight.csv', index=False)\n",
    "overweight.to_csv(r'..\\..\\Resources\\BMI_Datasets\\overweight.csv', index=False)\n",
    "obese_low_risk.to_csv(r'..\\..\\Resources\\BMI_Datasets\\obese_low_risk.csv', index=False)\n",
    "obese_medium_risk.to_csv(r'..\\..\\Resources\\BMI_Datasets\\obese_medium_risk.csv', index=False)\n",
    "obese_high_risk.to_csv(r'..\\..\\Resources\\BMI_Datasets\\obese_high_risk.csv', index=False)"
   ]
  },
  {
   "cell_type": "markdown",
   "metadata": {},
   "source": [
    "## Create bins based on Glucose Levels"
   ]
  },
  {
   "cell_type": "code",
   "execution_count": 36,
   "metadata": {},
   "outputs": [
    {
     "name": "stdout",
     "output_type": "stream",
     "text": [
      "time: 16 ms (started: 2022-03-15 23:43:38 -05:00)\n"
     ]
    }
   ],
   "source": [
    "# 0 - 100\n",
    "normal_glucose = stroke_df[(stroke_df['Avg_Glucose_Lvl'] <= 100)]\n",
    "# 100 - 125\n",
    "prediabetic_glucose = stroke_df[(stroke_df['Avg_Glucose_Lvl'] > 100) & (stroke_df['Avg_Glucose_Lvl'] <= 125)]\n",
    "# 125 +\n",
    "diabetic_glucose = stroke_df[(stroke_df['Avg_Glucose_Lvl'] > 125)]"
   ]
  },
  {
   "cell_type": "code",
   "execution_count": 37,
   "metadata": {},
   "outputs": [
    {
     "name": "stdout",
     "output_type": "stream",
     "text": [
      "time: 359 ms (started: 2022-03-15 23:43:38 -05:00)\n"
     ]
    }
   ],
   "source": [
    "# Export Parquet File\n",
    "normal_glucose.to_parquet(r'..\\..\\Resources\\Glucose_Datasets\\Parquet\\normal_glucose.parquet.gzip', compression='gzip', index=False)\n",
    "prediabetic_glucose.to_parquet(r'..\\..\\Resources\\Glucose_Datasets\\Parquet\\prediabetic_glucose.parquet.gzip', compression='gzip', index=False)\n",
    "diabetic_glucose.to_parquet(r'..\\..\\Resources\\Glucose_Datasets\\Parquet\\diabetic_glucose.parquet.gzip', compression='gzip', index=False)\n",
    "\n",
    "# Export CSV File\n",
    "normal_glucose.to_csv(r'..\\..\\Resources\\Glucose_Datasets\\normal_glucose.csv', index=False)\n",
    "prediabetic_glucose.to_csv(r'..\\..\\Resources\\Glucose_Datasets\\prediabetic_glucose.csv', index=False)\n",
    "diabetic_glucose.to_csv(r'..\\..\\Resources\\Glucose_Datasets\\diabetic_glucose.csv', index=False)"
   ]
  }
 ],
 "metadata": {
  "interpreter": {
   "hash": "91467934cf79c70e8d3ae65fe6c50c19d67398a8041a0c6998eefdea162cbc23"
  },
  "kernelspec": {
   "display_name": "mlenv",
   "language": "python",
   "name": "python3"
  },
  "language_info": {
   "codemirror_mode": {
    "name": "ipython",
    "version": 3
   },
   "file_extension": ".py",
   "mimetype": "text/x-python",
   "name": "python",
   "nbconvert_exporter": "python",
   "pygments_lexer": "ipython3",
   "version": "3.7.11"
  },
  "orig_nbformat": 4
 },
 "nbformat": 4,
 "nbformat_minor": 2
}
