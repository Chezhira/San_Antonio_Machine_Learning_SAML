{
 "cells": [
  {
   "cell_type": "code",
   "execution_count": 1,
   "id": "83c5d24b",
   "metadata": {},
   "outputs": [],
   "source": [
    "import pandas as pd"
   ]
  },
  {
   "cell_type": "code",
   "execution_count": 2,
   "id": "7d4c2206",
   "metadata": {},
   "outputs": [
    {
     "data": {
      "text/html": [
       "<div>\n",
       "<style scoped>\n",
       "    .dataframe tbody tr th:only-of-type {\n",
       "        vertical-align: middle;\n",
       "    }\n",
       "\n",
       "    .dataframe tbody tr th {\n",
       "        vertical-align: top;\n",
       "    }\n",
       "\n",
       "    .dataframe thead th {\n",
       "        text-align: right;\n",
       "    }\n",
       "</style>\n",
       "<table border=\"1\" class=\"dataframe\">\n",
       "  <thead>\n",
       "    <tr style=\"text-align: right;\">\n",
       "      <th></th>\n",
       "      <th>Accuracy</th>\n",
       "      <th>Precision</th>\n",
       "      <th>Recall</th>\n",
       "    </tr>\n",
       "  </thead>\n",
       "  <tbody>\n",
       "    <tr>\n",
       "      <th>0</th>\n",
       "      <td>0.742661</td>\n",
       "      <td>0.153094</td>\n",
       "      <td>0.94</td>\n",
       "    </tr>\n",
       "    <tr>\n",
       "      <th>1</th>\n",
       "      <td>0.712329</td>\n",
       "      <td>0.128049</td>\n",
       "      <td>0.84</td>\n",
       "    </tr>\n",
       "    <tr>\n",
       "      <th>2</th>\n",
       "      <td>0.733855</td>\n",
       "      <td>0.141935</td>\n",
       "      <td>0.88</td>\n",
       "    </tr>\n",
       "    <tr>\n",
       "      <th>3</th>\n",
       "      <td>0.731898</td>\n",
       "      <td>0.131579</td>\n",
       "      <td>0.80</td>\n",
       "    </tr>\n",
       "    <tr>\n",
       "      <th>4</th>\n",
       "      <td>0.759295</td>\n",
       "      <td>0.134328</td>\n",
       "      <td>0.72</td>\n",
       "    </tr>\n",
       "    <tr>\n",
       "      <th>5</th>\n",
       "      <td>0.726027</td>\n",
       "      <td>0.138365</td>\n",
       "      <td>0.88</td>\n",
       "    </tr>\n",
       "    <tr>\n",
       "      <th>6</th>\n",
       "      <td>0.743640</td>\n",
       "      <td>0.134483</td>\n",
       "      <td>0.78</td>\n",
       "    </tr>\n",
       "    <tr>\n",
       "      <th>7</th>\n",
       "      <td>0.719178</td>\n",
       "      <td>0.135385</td>\n",
       "      <td>0.88</td>\n",
       "    </tr>\n",
       "    <tr>\n",
       "      <th>8</th>\n",
       "      <td>0.712329</td>\n",
       "      <td>0.116352</td>\n",
       "      <td>0.74</td>\n",
       "    </tr>\n",
       "    <tr>\n",
       "      <th>9</th>\n",
       "      <td>0.726027</td>\n",
       "      <td>0.133758</td>\n",
       "      <td>0.84</td>\n",
       "    </tr>\n",
       "  </tbody>\n",
       "</table>\n",
       "</div>"
      ],
      "text/plain": [
       "   Accuracy  Precision  Recall\n",
       "0  0.742661   0.153094    0.94\n",
       "1  0.712329   0.128049    0.84\n",
       "2  0.733855   0.141935    0.88\n",
       "3  0.731898   0.131579    0.80\n",
       "4  0.759295   0.134328    0.72\n",
       "5  0.726027   0.138365    0.88\n",
       "6  0.743640   0.134483    0.78\n",
       "7  0.719178   0.135385    0.88\n",
       "8  0.712329   0.116352    0.74\n",
       "9  0.726027   0.133758    0.84"
      ]
     },
     "execution_count": 2,
     "metadata": {},
     "output_type": "execute_result"
    }
   ],
   "source": [
    "filepath = 'ML_result_files/SVC_AddGlucoseStatus_SimpleImputer(mean)_RandomOverSampler.csv'\n",
    "df = pd.read_csv(filepath)\n",
    "df.head(10)"
   ]
  },
  {
   "cell_type": "code",
   "execution_count": 3,
   "id": "daba5175",
   "metadata": {},
   "outputs": [
    {
     "data": {
      "text/plain": [
       "0.96"
      ]
     },
     "execution_count": 3,
     "metadata": {},
     "output_type": "execute_result"
    }
   ],
   "source": [
    "df['Recall'].max()"
   ]
  },
  {
   "cell_type": "code",
   "execution_count": 4,
   "id": "ceff837d",
   "metadata": {},
   "outputs": [
    {
     "data": {
      "text/plain": [
       "0.80    152\n",
       "0.82    136\n",
       "0.84    119\n",
       "0.78    115\n",
       "0.86    109\n",
       "0.76     89\n",
       "0.88     74\n",
       "0.74     71\n",
       "0.90     37\n",
       "0.72     33\n",
       "0.70     27\n",
       "0.92     16\n",
       "0.68     11\n",
       "0.94      6\n",
       "0.96      3\n",
       "0.66      1\n",
       "0.62      1\n",
       "Name: Recall, dtype: int64"
      ]
     },
     "execution_count": 4,
     "metadata": {},
     "output_type": "execute_result"
    }
   ],
   "source": [
    "df['Recall'].value_counts()"
   ]
  },
  {
   "cell_type": "code",
   "execution_count": 5,
   "id": "9036ae29",
   "metadata": {},
   "outputs": [
    {
     "data": {
      "text/plain": [
       "62"
      ]
     },
     "execution_count": 5,
     "metadata": {},
     "output_type": "execute_result"
    }
   ],
   "source": [
    "df.loc[df['Recall'] >= 0.90].value_counts().sum()"
   ]
  },
  {
   "cell_type": "code",
   "execution_count": 6,
   "id": "2f8591d6",
   "metadata": {},
   "outputs": [
    {
     "data": {
      "text/plain": [
       "652"
      ]
     },
     "execution_count": 6,
     "metadata": {},
     "output_type": "execute_result"
    }
   ],
   "source": [
    "df.loc[df['Recall'] >= 0.80].value_counts().sum()"
   ]
  },
  {
   "cell_type": "code",
   "execution_count": 7,
   "id": "e9e9842d",
   "metadata": {},
   "outputs": [
    {
     "data": {
      "text/plain": [
       "40"
      ]
     },
     "execution_count": 7,
     "metadata": {},
     "output_type": "execute_result"
    }
   ],
   "source": [
    "df.loc[df['Recall'] <= 0.70].value_counts().sum()"
   ]
  },
  {
   "cell_type": "code",
   "execution_count": 8,
   "id": "e770f198",
   "metadata": {},
   "outputs": [
    {
     "data": {
      "text/plain": [
       "0.81"
      ]
     },
     "execution_count": 8,
     "metadata": {},
     "output_type": "execute_result"
    }
   ],
   "source": [
    "df['Recall'].median()"
   ]
  },
  {
   "cell_type": "code",
   "execution_count": 9,
   "id": "2f01d626",
   "metadata": {},
   "outputs": [
    {
     "data": {
      "text/plain": [
       "0.8097799999999998"
      ]
     },
     "execution_count": 9,
     "metadata": {},
     "output_type": "execute_result"
    }
   ],
   "source": [
    "df['Recall'].mean()"
   ]
  },
  {
   "cell_type": "code",
   "execution_count": 14,
   "id": "e2c04df3",
   "metadata": {},
   "outputs": [
    {
     "data": {
      "text/plain": [
       "0    0.8\n",
       "dtype: float64"
      ]
     },
     "execution_count": 14,
     "metadata": {},
     "output_type": "execute_result"
    }
   ],
   "source": [
    "df['Recall'].mode()"
   ]
  },
  {
   "cell_type": "code",
   "execution_count": 10,
   "id": "4b571003",
   "metadata": {},
   "outputs": [
    {
     "data": {
      "text/plain": [
       "0.721135    35\n",
       "0.726027    33\n",
       "0.718200    31\n",
       "0.725049    31\n",
       "0.731898    30\n",
       "            ..\n",
       "0.704501     1\n",
       "0.697652     1\n",
       "0.768102     1\n",
       "0.691781     1\n",
       "0.698630     1\n",
       "Name: Accuracy, Length: 75, dtype: int64"
      ]
     },
     "execution_count": 10,
     "metadata": {},
     "output_type": "execute_result"
    }
   ],
   "source": [
    "df['Accuracy'].value_counts()"
   ]
  },
  {
   "cell_type": "code",
   "execution_count": 11,
   "id": "bb228965",
   "metadata": {},
   "outputs": [
    {
     "data": {
      "text/plain": [
       "0.7681017612524462"
      ]
     },
     "execution_count": 11,
     "metadata": {},
     "output_type": "execute_result"
    }
   ],
   "source": [
    "df['Accuracy'].max()"
   ]
  },
  {
   "cell_type": "code",
   "execution_count": 12,
   "id": "092ff765",
   "metadata": {},
   "outputs": [
    {
     "data": {
      "text/plain": [
       "0.6868884540117417"
      ]
     },
     "execution_count": 12,
     "metadata": {},
     "output_type": "execute_result"
    }
   ],
   "source": [
    "df['Accuracy'].min()"
   ]
  },
  {
   "cell_type": "code",
   "execution_count": 13,
   "id": "9148d0e6",
   "metadata": {},
   "outputs": [
    {
     "data": {
      "text/plain": [
       "0.7281467710371816"
      ]
     },
     "execution_count": 13,
     "metadata": {},
     "output_type": "execute_result"
    }
   ],
   "source": [
    "df['Accuracy'].mean()"
   ]
  }
 ],
 "metadata": {
  "kernelspec": {
   "display_name": "PythonData",
   "language": "python",
   "name": "pythondata"
  },
  "language_info": {
   "codemirror_mode": {
    "name": "ipython",
    "version": 3
   },
   "file_extension": ".py",
   "mimetype": "text/x-python",
   "name": "python",
   "nbconvert_exporter": "python",
   "pygments_lexer": "ipython3",
   "version": "3.7.10"
  }
 },
 "nbformat": 4,
 "nbformat_minor": 5
}
